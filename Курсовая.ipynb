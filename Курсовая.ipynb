{
  "nbformat": 4,
  "nbformat_minor": 0,
  "metadata": {
    "colab": {
      "provenance": [],
      "gpuType": "T4",
      "authorship_tag": "ABX9TyNgW55SqGXIxVlx3+oTtmle"
    },
    "kernelspec": {
      "name": "python3",
      "display_name": "Python 3"
    },
    "language_info": {
      "name": "python"
    },
    "accelerator": "GPU"
  },
  "cells": [
    {
      "cell_type": "code",
      "source": [
        "import pandas as pd\n",
        "import csv\n",
        "import numpy as np\n",
        "from matplotlib import pyplot as plt\n",
        "import seaborn as sns\n",
        "import re\n",
        "from collections import Counter\n",
        "import nltk\n",
        "from nltk.corpus import stopwords\n",
        "from nltk import ngrams\n",
        "from nltk.stem import WordNetLemmatizer"
      ],
      "metadata": {
        "id": "mC4eYbNPdEUk"
      },
      "execution_count": 1,
      "outputs": []
    },
    {
      "cell_type": "code",
      "source": [
        "import torch\n",
        "from transformers import BertTokenizer, BertModel"
      ],
      "metadata": {
        "id": "vpOuse3-UMFd"
      },
      "execution_count": 2,
      "outputs": []
    },
    {
      "cell_type": "code",
      "execution_count": 3,
      "metadata": {
        "colab": {
          "base_uri": "https://localhost:8080/",
          "height": 407
        },
        "id": "L-ZZO-VScaFf",
        "outputId": "8ea7af80-a8fd-4ea0-ed4d-ef162fc25c28"
      },
      "outputs": [
        {
          "output_type": "stream",
          "name": "stderr",
          "text": [
            "<ipython-input-3-47bcf7cd181f>:1: DtypeWarning: Columns (5) have mixed types. Specify dtype option on import or set low_memory=False.\n",
            "  data = pd.read_csv('publ.csv')\n"
          ]
        },
        {
          "output_type": "execute_result",
          "data": {
            "text/plain": [
              "       publ_id                                          publ_name  year  \\\n",
              "72234  1040219  EVOLUTION OF THE FIELD OF DISTRIBUTED DEFECTS ...  2022   \n",
              "66406  1034391    Speed-gradient entropy maximization in networks  2016   \n",
              "29352    29892  Управление процессом генерации энергии транспо...  2022   \n",
              "\n",
              "                                                     doi  \\\n",
              "72234  https://doi.org/10.18287/2541-7525-2022-28-1-2...   \n",
              "66406       https://doi.org/10.1109/norbert.2016.7547461   \n",
              "29352                                                NaN   \n",
              "\n",
              "                                              annotation geo_name  \\\n",
              "72234  The article discusses the mathematical modelin...      NaN   \n",
              "66406  Dynamics of networks which tend to reach conse...      NaN   \n",
              "29352  В данной работе рассматривается задача управле...   Москва   \n",
              "\n",
              "       collect_name  collect_type  \\\n",
              "72234           NaN           NaN   \n",
              "66406           NaN           NaN   \n",
              "29352           NaN           NaN   \n",
              "\n",
              "                                           author_affs  \\\n",
              "72234              Institute for Problems in Mechanics   \n",
              "66406  Institute of Problems of Mechanical Engineering   \n",
              "29352                                          ИПУ РАН   \n",
              "\n",
              "                      author_ids  \n",
              "72234           1003774; 1003771  \n",
              "66406  1001323; 1004588; 1048941  \n",
              "29352                         85  "
            ],
            "text/html": [
              "\n",
              "  <div id=\"df-fcdf2791-3356-4eda-8577-114e72b9cc9f\" class=\"colab-df-container\">\n",
              "    <div>\n",
              "<style scoped>\n",
              "    .dataframe tbody tr th:only-of-type {\n",
              "        vertical-align: middle;\n",
              "    }\n",
              "\n",
              "    .dataframe tbody tr th {\n",
              "        vertical-align: top;\n",
              "    }\n",
              "\n",
              "    .dataframe thead th {\n",
              "        text-align: right;\n",
              "    }\n",
              "</style>\n",
              "<table border=\"1\" class=\"dataframe\">\n",
              "  <thead>\n",
              "    <tr style=\"text-align: right;\">\n",
              "      <th></th>\n",
              "      <th>publ_id</th>\n",
              "      <th>publ_name</th>\n",
              "      <th>year</th>\n",
              "      <th>doi</th>\n",
              "      <th>annotation</th>\n",
              "      <th>geo_name</th>\n",
              "      <th>collect_name</th>\n",
              "      <th>collect_type</th>\n",
              "      <th>author_affs</th>\n",
              "      <th>author_ids</th>\n",
              "    </tr>\n",
              "  </thead>\n",
              "  <tbody>\n",
              "    <tr>\n",
              "      <th>72234</th>\n",
              "      <td>1040219</td>\n",
              "      <td>EVOLUTION OF THE FIELD OF DISTRIBUTED DEFECTS ...</td>\n",
              "      <td>2022</td>\n",
              "      <td>https://doi.org/10.18287/2541-7525-2022-28-1-2...</td>\n",
              "      <td>The article discusses the mathematical modelin...</td>\n",
              "      <td>NaN</td>\n",
              "      <td>NaN</td>\n",
              "      <td>NaN</td>\n",
              "      <td>Institute for Problems in Mechanics</td>\n",
              "      <td>1003774; 1003771</td>\n",
              "    </tr>\n",
              "    <tr>\n",
              "      <th>66406</th>\n",
              "      <td>1034391</td>\n",
              "      <td>Speed-gradient entropy maximization in networks</td>\n",
              "      <td>2016</td>\n",
              "      <td>https://doi.org/10.1109/norbert.2016.7547461</td>\n",
              "      <td>Dynamics of networks which tend to reach conse...</td>\n",
              "      <td>NaN</td>\n",
              "      <td>NaN</td>\n",
              "      <td>NaN</td>\n",
              "      <td>Institute of Problems of Mechanical Engineering</td>\n",
              "      <td>1001323; 1004588; 1048941</td>\n",
              "    </tr>\n",
              "    <tr>\n",
              "      <th>29352</th>\n",
              "      <td>29892</td>\n",
              "      <td>Управление процессом генерации энергии транспо...</td>\n",
              "      <td>2022</td>\n",
              "      <td>NaN</td>\n",
              "      <td>В данной работе рассматривается задача управле...</td>\n",
              "      <td>Москва</td>\n",
              "      <td>NaN</td>\n",
              "      <td>NaN</td>\n",
              "      <td>ИПУ РАН</td>\n",
              "      <td>85</td>\n",
              "    </tr>\n",
              "  </tbody>\n",
              "</table>\n",
              "</div>\n",
              "    <div class=\"colab-df-buttons\">\n",
              "\n",
              "  <div class=\"colab-df-container\">\n",
              "    <button class=\"colab-df-convert\" onclick=\"convertToInteractive('df-fcdf2791-3356-4eda-8577-114e72b9cc9f')\"\n",
              "            title=\"Convert this dataframe to an interactive table.\"\n",
              "            style=\"display:none;\">\n",
              "\n",
              "  <svg xmlns=\"http://www.w3.org/2000/svg\" height=\"24px\" viewBox=\"0 -960 960 960\">\n",
              "    <path d=\"M120-120v-720h720v720H120Zm60-500h600v-160H180v160Zm220 220h160v-160H400v160Zm0 220h160v-160H400v160ZM180-400h160v-160H180v160Zm440 0h160v-160H620v160ZM180-180h160v-160H180v160Zm440 0h160v-160H620v160Z\"/>\n",
              "  </svg>\n",
              "    </button>\n",
              "\n",
              "  <style>\n",
              "    .colab-df-container {\n",
              "      display:flex;\n",
              "      gap: 12px;\n",
              "    }\n",
              "\n",
              "    .colab-df-convert {\n",
              "      background-color: #E8F0FE;\n",
              "      border: none;\n",
              "      border-radius: 50%;\n",
              "      cursor: pointer;\n",
              "      display: none;\n",
              "      fill: #1967D2;\n",
              "      height: 32px;\n",
              "      padding: 0 0 0 0;\n",
              "      width: 32px;\n",
              "    }\n",
              "\n",
              "    .colab-df-convert:hover {\n",
              "      background-color: #E2EBFA;\n",
              "      box-shadow: 0px 1px 2px rgba(60, 64, 67, 0.3), 0px 1px 3px 1px rgba(60, 64, 67, 0.15);\n",
              "      fill: #174EA6;\n",
              "    }\n",
              "\n",
              "    .colab-df-buttons div {\n",
              "      margin-bottom: 4px;\n",
              "    }\n",
              "\n",
              "    [theme=dark] .colab-df-convert {\n",
              "      background-color: #3B4455;\n",
              "      fill: #D2E3FC;\n",
              "    }\n",
              "\n",
              "    [theme=dark] .colab-df-convert:hover {\n",
              "      background-color: #434B5C;\n",
              "      box-shadow: 0px 1px 3px 1px rgba(0, 0, 0, 0.15);\n",
              "      filter: drop-shadow(0px 1px 2px rgba(0, 0, 0, 0.3));\n",
              "      fill: #FFFFFF;\n",
              "    }\n",
              "  </style>\n",
              "\n",
              "    <script>\n",
              "      const buttonEl =\n",
              "        document.querySelector('#df-fcdf2791-3356-4eda-8577-114e72b9cc9f button.colab-df-convert');\n",
              "      buttonEl.style.display =\n",
              "        google.colab.kernel.accessAllowed ? 'block' : 'none';\n",
              "\n",
              "      async function convertToInteractive(key) {\n",
              "        const element = document.querySelector('#df-fcdf2791-3356-4eda-8577-114e72b9cc9f');\n",
              "        const dataTable =\n",
              "          await google.colab.kernel.invokeFunction('convertToInteractive',\n",
              "                                                    [key], {});\n",
              "        if (!dataTable) return;\n",
              "\n",
              "        const docLinkHtml = 'Like what you see? Visit the ' +\n",
              "          '<a target=\"_blank\" href=https://colab.research.google.com/notebooks/data_table.ipynb>data table notebook</a>'\n",
              "          + ' to learn more about interactive tables.';\n",
              "        element.innerHTML = '';\n",
              "        dataTable['output_type'] = 'display_data';\n",
              "        await google.colab.output.renderOutput(dataTable, element);\n",
              "        const docLink = document.createElement('div');\n",
              "        docLink.innerHTML = docLinkHtml;\n",
              "        element.appendChild(docLink);\n",
              "      }\n",
              "    </script>\n",
              "  </div>\n",
              "\n",
              "\n",
              "<div id=\"df-1c8713cc-3968-4e4f-a5cd-d6bd44361b76\">\n",
              "  <button class=\"colab-df-quickchart\" onclick=\"quickchart('df-1c8713cc-3968-4e4f-a5cd-d6bd44361b76')\"\n",
              "            title=\"Suggest charts\"\n",
              "            style=\"display:none;\">\n",
              "\n",
              "<svg xmlns=\"http://www.w3.org/2000/svg\" height=\"24px\"viewBox=\"0 0 24 24\"\n",
              "     width=\"24px\">\n",
              "    <g>\n",
              "        <path d=\"M19 3H5c-1.1 0-2 .9-2 2v14c0 1.1.9 2 2 2h14c1.1 0 2-.9 2-2V5c0-1.1-.9-2-2-2zM9 17H7v-7h2v7zm4 0h-2V7h2v10zm4 0h-2v-4h2v4z\"/>\n",
              "    </g>\n",
              "</svg>\n",
              "  </button>\n",
              "\n",
              "<style>\n",
              "  .colab-df-quickchart {\n",
              "      --bg-color: #E8F0FE;\n",
              "      --fill-color: #1967D2;\n",
              "      --hover-bg-color: #E2EBFA;\n",
              "      --hover-fill-color: #174EA6;\n",
              "      --disabled-fill-color: #AAA;\n",
              "      --disabled-bg-color: #DDD;\n",
              "  }\n",
              "\n",
              "  [theme=dark] .colab-df-quickchart {\n",
              "      --bg-color: #3B4455;\n",
              "      --fill-color: #D2E3FC;\n",
              "      --hover-bg-color: #434B5C;\n",
              "      --hover-fill-color: #FFFFFF;\n",
              "      --disabled-bg-color: #3B4455;\n",
              "      --disabled-fill-color: #666;\n",
              "  }\n",
              "\n",
              "  .colab-df-quickchart {\n",
              "    background-color: var(--bg-color);\n",
              "    border: none;\n",
              "    border-radius: 50%;\n",
              "    cursor: pointer;\n",
              "    display: none;\n",
              "    fill: var(--fill-color);\n",
              "    height: 32px;\n",
              "    padding: 0;\n",
              "    width: 32px;\n",
              "  }\n",
              "\n",
              "  .colab-df-quickchart:hover {\n",
              "    background-color: var(--hover-bg-color);\n",
              "    box-shadow: 0 1px 2px rgba(60, 64, 67, 0.3), 0 1px 3px 1px rgba(60, 64, 67, 0.15);\n",
              "    fill: var(--button-hover-fill-color);\n",
              "  }\n",
              "\n",
              "  .colab-df-quickchart-complete:disabled,\n",
              "  .colab-df-quickchart-complete:disabled:hover {\n",
              "    background-color: var(--disabled-bg-color);\n",
              "    fill: var(--disabled-fill-color);\n",
              "    box-shadow: none;\n",
              "  }\n",
              "\n",
              "  .colab-df-spinner {\n",
              "    border: 2px solid var(--fill-color);\n",
              "    border-color: transparent;\n",
              "    border-bottom-color: var(--fill-color);\n",
              "    animation:\n",
              "      spin 1s steps(1) infinite;\n",
              "  }\n",
              "\n",
              "  @keyframes spin {\n",
              "    0% {\n",
              "      border-color: transparent;\n",
              "      border-bottom-color: var(--fill-color);\n",
              "      border-left-color: var(--fill-color);\n",
              "    }\n",
              "    20% {\n",
              "      border-color: transparent;\n",
              "      border-left-color: var(--fill-color);\n",
              "      border-top-color: var(--fill-color);\n",
              "    }\n",
              "    30% {\n",
              "      border-color: transparent;\n",
              "      border-left-color: var(--fill-color);\n",
              "      border-top-color: var(--fill-color);\n",
              "      border-right-color: var(--fill-color);\n",
              "    }\n",
              "    40% {\n",
              "      border-color: transparent;\n",
              "      border-right-color: var(--fill-color);\n",
              "      border-top-color: var(--fill-color);\n",
              "    }\n",
              "    60% {\n",
              "      border-color: transparent;\n",
              "      border-right-color: var(--fill-color);\n",
              "    }\n",
              "    80% {\n",
              "      border-color: transparent;\n",
              "      border-right-color: var(--fill-color);\n",
              "      border-bottom-color: var(--fill-color);\n",
              "    }\n",
              "    90% {\n",
              "      border-color: transparent;\n",
              "      border-bottom-color: var(--fill-color);\n",
              "    }\n",
              "  }\n",
              "</style>\n",
              "\n",
              "  <script>\n",
              "    async function quickchart(key) {\n",
              "      const quickchartButtonEl =\n",
              "        document.querySelector('#' + key + ' button');\n",
              "      quickchartButtonEl.disabled = true;  // To prevent multiple clicks.\n",
              "      quickchartButtonEl.classList.add('colab-df-spinner');\n",
              "      try {\n",
              "        const charts = await google.colab.kernel.invokeFunction(\n",
              "            'suggestCharts', [key], {});\n",
              "      } catch (error) {\n",
              "        console.error('Error during call to suggestCharts:', error);\n",
              "      }\n",
              "      quickchartButtonEl.classList.remove('colab-df-spinner');\n",
              "      quickchartButtonEl.classList.add('colab-df-quickchart-complete');\n",
              "    }\n",
              "    (() => {\n",
              "      let quickchartButtonEl =\n",
              "        document.querySelector('#df-1c8713cc-3968-4e4f-a5cd-d6bd44361b76 button');\n",
              "      quickchartButtonEl.style.display =\n",
              "        google.colab.kernel.accessAllowed ? 'block' : 'none';\n",
              "    })();\n",
              "  </script>\n",
              "</div>\n",
              "    </div>\n",
              "  </div>\n"
            ],
            "application/vnd.google.colaboratory.intrinsic+json": {
              "type": "dataframe",
              "summary": "{\n  \"name\": \"data\",\n  \"rows\": 3,\n  \"fields\": [\n    {\n      \"column\": \"publ_id\",\n      \"properties\": {\n        \"dtype\": \"number\",\n        \"std\": 581637,\n        \"min\": 29892,\n        \"max\": 1040219,\n        \"num_unique_values\": 3,\n        \"samples\": [\n          1040219,\n          1034391,\n          29892\n        ],\n        \"semantic_type\": \"\",\n        \"description\": \"\"\n      }\n    },\n    {\n      \"column\": \"publ_name\",\n      \"properties\": {\n        \"dtype\": \"string\",\n        \"num_unique_values\": 3,\n        \"samples\": [\n          \"EVOLUTION OF THE FIELD OF DISTRIBUTED DEFECTS IN A CRYSTAL DURING CONTACT INTERACTION WITH A SYSTEM OF RIGID STAMPS\",\n          \"Speed-gradient entropy maximization in networks\",\n          \"\\u0423\\u043f\\u0440\\u0430\\u0432\\u043b\\u0435\\u043d\\u0438\\u0435 \\u043f\\u0440\\u043e\\u0446\\u0435\\u0441\\u0441\\u043e\\u043c \\u0433\\u0435\\u043d\\u0435\\u0440\\u0430\\u0446\\u0438\\u0438 \\u044d\\u043d\\u0435\\u0440\\u0433\\u0438\\u0438 \\u0442\\u0440\\u0430\\u043d\\u0441\\u043f\\u043e\\u0440\\u0442\\u043d\\u043e\\u0433\\u043e \\u0441\\u0440\\u0435\\u0434\\u0441\\u0442\\u0432\\u0430\"\n        ],\n        \"semantic_type\": \"\",\n        \"description\": \"\"\n      }\n    },\n    {\n      \"column\": \"year\",\n      \"properties\": {\n        \"dtype\": \"number\",\n        \"std\": 3,\n        \"min\": 2016,\n        \"max\": 2022,\n        \"num_unique_values\": 2,\n        \"samples\": [\n          2016,\n          2022\n        ],\n        \"semantic_type\": \"\",\n        \"description\": \"\"\n      }\n    },\n    {\n      \"column\": \"doi\",\n      \"properties\": {\n        \"dtype\": \"string\",\n        \"num_unique_values\": 2,\n        \"samples\": [\n          \"https://doi.org/10.1109/norbert.2016.7547461\",\n          \"https://doi.org/10.18287/2541-7525-2022-28-1-2-55-73\"\n        ],\n        \"semantic_type\": \"\",\n        \"description\": \"\"\n      }\n    },\n    {\n      \"column\": \"annotation\",\n      \"properties\": {\n        \"dtype\": \"string\",\n        \"num_unique_values\": 3,\n        \"samples\": [\n          \"The article discusses the mathematical modeling for the evolution of the stress-strain state and fields of defects in crystals during their contact interaction with a system of rigid punches. From a macroscopic point of view, the redistribution of defects is characterized by inelastic (viscoplastic) deformation, and therefore the processes under study can be classified as elastic-viscoplastic. Elastic and inelastic deformations are assumed to be finite. To take into account inelastic deformations, it is proposed to use a differential-geometric approach, in which the evolution of the fields of distributed defects is completely characterized by measures of incompatible deformations and quantified by material connection invariants. This connection is generated by a non-Euclidean metric, which, in turn, is given by a field of symmetric linear mappings that define (inconsistent) deformations of the crystal. Since the development of local deformations depends both on thecontact interaction at the boundary and on the distribution of defects in the bulk of the crystal, the simulation problem turns out to be coupled. It is assumed that the local change in the defect density is determined by the first-order Alexander Haasen Sumino evolutionary law, which takes into account the deviatoric part of the stress field. An iterative algorithm has been developed to find coupled fields of local deformations and defects density. The numerical analysis for the model problem was provided for a silicon crystal in the form of a parallelepiped, one face of which is rigidly fixed, and a system of rigid stamps acts on the opposite face. The three-constant Mooney Rivlin potential was used to model the local elastic response.\",\n          \"Dynamics of networks which tend to reach consensus from the MaxEnt principle perspective is considered. We use an approach based on the Speed-Gradient Principle that was successfully used to investigate entropy-driven systems. We derive a new equation describing dynamics of networks with an arbitrary topology and show the convergence to the uniform distribution, i.e. consensus state.\"\n        ],\n        \"semantic_type\": \"\",\n        \"description\": \"\"\n      }\n    },\n    {\n      \"column\": \"geo_name\",\n      \"properties\": {\n        \"dtype\": \"category\",\n        \"num_unique_values\": 1,\n        \"samples\": [\n          \"\\u041c\\u043e\\u0441\\u043a\\u0432\\u0430\"\n        ],\n        \"semantic_type\": \"\",\n        \"description\": \"\"\n      }\n    },\n    {\n      \"column\": \"collect_name\",\n      \"properties\": {\n        \"dtype\": \"number\",\n        \"std\": null,\n        \"min\": null,\n        \"max\": null,\n        \"num_unique_values\": 0,\n        \"samples\": [],\n        \"semantic_type\": \"\",\n        \"description\": \"\"\n      }\n    },\n    {\n      \"column\": \"collect_type\",\n      \"properties\": {\n        \"dtype\": \"number\",\n        \"std\": null,\n        \"min\": null,\n        \"max\": null,\n        \"num_unique_values\": 0,\n        \"samples\": [],\n        \"semantic_type\": \"\",\n        \"description\": \"\"\n      }\n    },\n    {\n      \"column\": \"author_affs\",\n      \"properties\": {\n        \"dtype\": \"string\",\n        \"num_unique_values\": 3,\n        \"samples\": [],\n        \"semantic_type\": \"\",\n        \"description\": \"\"\n      }\n    },\n    {\n      \"column\": \"author_ids\",\n      \"properties\": {\n        \"dtype\": \"string\",\n        \"num_unique_values\": 3,\n        \"samples\": [],\n        \"semantic_type\": \"\",\n        \"description\": \"\"\n      }\n    }\n  ]\n}"
            }
          },
          "metadata": {},
          "execution_count": 3
        }
      ],
      "source": [
        "data = pd.read_csv('publ.csv')\n",
        "data.sample(3)"
      ]
    },
    {
      "cell_type": "markdown",
      "source": [
        "**Описание признаков:**\n",
        "\n",
        "publ_id\t- Уникальный идентификатор публикации.\n",
        "\n",
        "year -\tГод публикации.\n",
        "\n",
        "doi\t- Digital Object Identifier Уникальный идентификатор для электронных документов.\n",
        "\n",
        "annotation -\tАннотация или краткое содержание публикации. Это текстовое поле может содержать основные идеи или выводы работы.\n",
        "\n",
        "geo_name -\tГеографическое название, связанное с публикацией.\n",
        "\n",
        "collect_name -\tНазвание коллекции, к которой принадлежит публикация.\n",
        "\n",
        "collect_type -\tТип коллекции, например, журнал, конференция, книга и т.д. Это помогает классифицировать тип публикации.\n",
        "\n",
        "author_affs\t- Аффилиации авторов.\n",
        "\n",
        "author_ids - Идентификаторы авторов."
      ],
      "metadata": {
        "id": "vri48eObfRRN"
      }
    },
    {
      "cell_type": "markdown",
      "source": [
        "Часть признаков не нужны в исследовании, поэтому удалим их."
      ],
      "metadata": {
        "id": "--BClXLZgKo8"
      }
    },
    {
      "cell_type": "code",
      "source": [
        "data = data.drop(['doi','collect_name','author_affs','author_ids'], axis=1)"
      ],
      "metadata": {
        "id": "YtIC_qiBgTHZ"
      },
      "execution_count": 4,
      "outputs": []
    },
    {
      "cell_type": "markdown",
      "source": [
        "Посмотрим содержание пустых строк в датасете"
      ],
      "metadata": {
        "id": "2NUwaSFhhaSQ"
      }
    },
    {
      "cell_type": "code",
      "source": [
        "plt.figure(figsize=(7,5))\n",
        "sns.heatmap(data.isna().transpose())"
      ],
      "metadata": {
        "colab": {
          "base_uri": "https://localhost:8080/",
          "height": 499
        },
        "id": "UoePfZC6hhKy",
        "outputId": "1b9882e0-4308-4d9c-92a4-e51d5d24bb28"
      },
      "execution_count": 5,
      "outputs": [
        {
          "output_type": "execute_result",
          "data": {
            "text/plain": [
              "<Axes: >"
            ]
          },
          "metadata": {},
          "execution_count": 5
        },
        {
          "output_type": "display_data",
          "data": {
            "text/plain": [
              "<Figure size 700x500 with 2 Axes>"
            ],
            "image/png": "[encoded data removed]"
          },
          "metadata": {}
        }
      ]
    },
    {
      "cell_type": "markdown",
      "source": [
        "Видим, что много пустых значений в geo_name и collect_type, поэтому также удалим эти столбцы. Дополнительно удалим строки не содержашие аннотации и название публикации."
      ],
      "metadata": {
        "id": "4gwGE-w8h8y3"
      }
    },
    {
      "cell_type": "code",
      "source": [
        "data = data.drop(['geo_name','collect_type'], axis=1)"
      ],
      "metadata": {
        "id": "KzdaiyEIiTNv"
      },
      "execution_count": 6,
      "outputs": []
    },
    {
      "cell_type": "code",
      "source": [
        "data = data.dropna()"
      ],
      "metadata": {
        "id": "w8Oa8Ye_iaHT"
      },
      "execution_count": 7,
      "outputs": []
    },
    {
      "cell_type": "markdown",
      "source": [
        "Разделим датасет на два: статьи на русском и английском языках. Для этого создадим дополнительный признак, содержащий информацию о языке."
      ],
      "metadata": {
        "id": "aIvQRFrri82E"
      }
    },
    {
      "cell_type": "code",
      "source": [
        "def is_russian(text):\n",
        "    return bool(re.search(r'[а-яА-Я]', text))"
      ],
      "metadata": {
        "id": "j23_3Kjjjxd5"
      },
      "execution_count": 8,
      "outputs": []
    },
    {
      "cell_type": "code",
      "source": [
        "data['language'] = data['publ_name'].apply(lambda x: 'ru' if is_russian(x) else 'en')\n",
        "\n",
        "data_ru = data[data['language'] == 'ru']\n",
        "data_en = data[data['language'] == 'en']"
      ],
      "metadata": {
        "id": "cTqFzxKrjDfc"
      },
      "execution_count": 9,
      "outputs": []
    },
    {
      "cell_type": "code",
      "source": [
        "data_ru.shape"
      ],
      "metadata": {
        "colab": {
          "base_uri": "https://localhost:8080/"
        },
        "id": "8jcn9J4Gj_wk",
        "outputId": "0f735258-24d1-49ac-ea2c-db5a4010fbbb"
      },
      "execution_count": 10,
      "outputs": [
        {
          "output_type": "execute_result",
          "data": {
            "text/plain": [
              "(23483, 5)"
            ]
          },
          "metadata": {},
          "execution_count": 10
        }
      ]
    },
    {
      "cell_type": "code",
      "source": [
        "data_en.shape"
      ],
      "metadata": {
        "colab": {
          "base_uri": "https://localhost:8080/"
        },
        "id": "BxXwiEjbkRoB",
        "outputId": "b6824482-4714-4a7c-bd04-29dbdabf61d6"
      },
      "execution_count": 11,
      "outputs": [
        {
          "output_type": "execute_result",
          "data": {
            "text/plain": [
              "(42410, 5)"
            ]
          },
          "metadata": {},
          "execution_count": 11
        }
      ]
    },
    {
      "cell_type": "code",
      "source": [
        "data_ru # название и аннотация на разных языках..."
      ],
      "metadata": {
        "colab": {
          "base_uri": "https://localhost:8080/",
          "height": 423
        },
        "id": "UiZy-9HnrtMQ",
        "outputId": "5212427b-806f-4ea5-a16a-1dbcd41189e6"
      },
      "execution_count": 12,
      "outputs": [
        {
          "output_type": "execute_result",
          "data": {
            "text/plain": [
              "       publ_id                                          publ_name  year  \\\n",
              "0            1  Методы и средства волнового фитоуправления в б...  2005   \n",
              "1            2  Метод динамической компенсации в задаче оценив...  2005   \n",
              "2            3  Управление электромеханическими системами в ус...  2005   \n",
              "4            5  Задача стабилизации линейных систем с сигмоида...  2005   \n",
              "5            6          Скользящий электропривод постоянного тока  2005   \n",
              "...        ...                                                ...   ...   \n",
              "91632  1059617  Особенности движения шагающей машины с поворот...  2013   \n",
              "91633  1059618  Экспериментальные исследования знакопеременног...  2011   \n",
              "91695  1059680  СинтеЗ классификатороВ дифференциальноЙ дИагно...  2011   \n",
              "91701  1059686            Адаптивная система классификаторов МГУА  2014   \n",
              "91755  1059740  Индустрия 4.0: возможности и риски в контексте...  2020   \n",
              "\n",
              "                                              annotation language  \n",
              "0      Рассматриваются методы и средства волнового фи...       ru  \n",
              "1      В докладе рассматривается задача стабилизации ...       ru  \n",
              "2      Рассматривается задача управления угловым поло...       ru  \n",
              "4      Предложена декомпозиционная процедура синтеза ...       ru  \n",
              "5      В работе рассмотрена задача позиционирования д...       ru  \n",
              "...                                                  ...      ...  \n",
              "91632  Kinematics mathematical model of walking machi...       ru  \n",
              "91633  Such operating mode of deep-well pump installa...       ru  \n",
              "91695  In the paper classifiers for light form of coa...       ru  \n",
              "91701  It is shown that the self-organization models,...       ru  \n",
              "91755  Представлен обзор проблематики обеспечения инф...       ru  \n",
              "\n",
              "[23483 rows x 5 columns]"
            ],
            "text/html": [
              "\n",
              "  <div id=\"df-3c8e8495-8f63-4d00-868b-b09564c75cf4\" class=\"colab-df-container\">\n",
              "    <div>\n",
              "<style scoped>\n",
              "    .dataframe tbody tr th:only-of-type {\n",
              "        vertical-align: middle;\n",
              "    }\n",
              "\n",
              "    .dataframe tbody tr th {\n",
              "        vertical-align: top;\n",
              "    }\n",
              "\n",
              "    .dataframe thead th {\n",
              "        text-align: right;\n",
              "    }\n",
              "</style>\n",
              "<table border=\"1\" class=\"dataframe\">\n",
              "  <thead>\n",
              "    <tr style=\"text-align: right;\">\n",
              "      <th></th>\n",
              "      <th>publ_id</th>\n",
              "      <th>publ_name</th>\n",
              "      <th>year</th>\n",
              "      <th>annotation</th>\n",
              "      <th>language</th>\n",
              "    </tr>\n",
              "  </thead>\n",
              "  <tbody>\n",
              "    <tr>\n",
              "      <th>0</th>\n",
              "      <td>1</td>\n",
              "      <td>Методы и средства волнового фитоуправления в б...</td>\n",
              "      <td>2005</td>\n",
              "      <td>Рассматриваются методы и средства волнового фи...</td>\n",
              "      <td>ru</td>\n",
              "    </tr>\n",
              "    <tr>\n",
              "      <th>1</th>\n",
              "      <td>2</td>\n",
              "      <td>Метод динамической компенсации в задаче оценив...</td>\n",
              "      <td>2005</td>\n",
              "      <td>В докладе рассматривается задача стабилизации ...</td>\n",
              "      <td>ru</td>\n",
              "    </tr>\n",
              "    <tr>\n",
              "      <th>2</th>\n",
              "      <td>3</td>\n",
              "      <td>Управление электромеханическими системами в ус...</td>\n",
              "      <td>2005</td>\n",
              "      <td>Рассматривается задача управления угловым поло...</td>\n",
              "      <td>ru</td>\n",
              "    </tr>\n",
              "    <tr>\n",
              "      <th>4</th>\n",
              "      <td>5</td>\n",
              "      <td>Задача стабилизации линейных систем с сигмоида...</td>\n",
              "      <td>2005</td>\n",
              "      <td>Предложена декомпозиционная процедура синтеза ...</td>\n",
              "      <td>ru</td>\n",
              "    </tr>\n",
              "    <tr>\n",
              "      <th>5</th>\n",
              "      <td>6</td>\n",
              "      <td>Скользящий электропривод постоянного тока</td>\n",
              "      <td>2005</td>\n",
              "      <td>В работе рассмотрена задача позиционирования д...</td>\n",
              "      <td>ru</td>\n",
              "    </tr>\n",
              "    <tr>\n",
              "      <th>...</th>\n",
              "      <td>...</td>\n",
              "      <td>...</td>\n",
              "      <td>...</td>\n",
              "      <td>...</td>\n",
              "      <td>...</td>\n",
              "    </tr>\n",
              "    <tr>\n",
              "      <th>91632</th>\n",
              "      <td>1059617</td>\n",
              "      <td>Особенности движения шагающей машины с поворот...</td>\n",
              "      <td>2013</td>\n",
              "      <td>Kinematics mathematical model of walking machi...</td>\n",
              "      <td>ru</td>\n",
              "    </tr>\n",
              "    <tr>\n",
              "      <th>91633</th>\n",
              "      <td>1059618</td>\n",
              "      <td>Экспериментальные исследования знакопеременног...</td>\n",
              "      <td>2011</td>\n",
              "      <td>Such operating mode of deep-well pump installa...</td>\n",
              "      <td>ru</td>\n",
              "    </tr>\n",
              "    <tr>\n",
              "      <th>91695</th>\n",
              "      <td>1059680</td>\n",
              "      <td>СинтеЗ классификатороВ дифференциальноЙ дИагно...</td>\n",
              "      <td>2011</td>\n",
              "      <td>In the paper classifiers for light form of coa...</td>\n",
              "      <td>ru</td>\n",
              "    </tr>\n",
              "    <tr>\n",
              "      <th>91701</th>\n",
              "      <td>1059686</td>\n",
              "      <td>Адаптивная система классификаторов МГУА</td>\n",
              "      <td>2014</td>\n",
              "      <td>It is shown that the self-organization models,...</td>\n",
              "      <td>ru</td>\n",
              "    </tr>\n",
              "    <tr>\n",
              "      <th>91755</th>\n",
              "      <td>1059740</td>\n",
              "      <td>Индустрия 4.0: возможности и риски в контексте...</td>\n",
              "      <td>2020</td>\n",
              "      <td>Представлен обзор проблематики обеспечения инф...</td>\n",
              "      <td>ru</td>\n",
              "    </tr>\n",
              "  </tbody>\n",
              "</table>\n",
              "<p>23483 rows × 5 columns</p>\n",
              "</div>\n",
              "    <div class=\"colab-df-buttons\">\n",
              "\n",
              "  <div class=\"colab-df-container\">\n",
              "    <button class=\"colab-df-convert\" onclick=\"convertToInteractive('df-3c8e8495-8f63-4d00-868b-b09564c75cf4')\"\n",
              "            title=\"Convert this dataframe to an interactive table.\"\n",
              "            style=\"display:none;\">\n",
              "\n",
              "  <svg xmlns=\"http://www.w3.org/2000/svg\" height=\"24px\" viewBox=\"0 -960 960 960\">\n",
              "    <path d=\"M120-120v-720h720v720H120Zm60-500h600v-160H180v160Zm220 220h160v-160H400v160Zm0 220h160v-160H400v160ZM180-400h160v-160H180v160Zm440 0h160v-160H620v160ZM180-180h160v-160H180v160Zm440 0h160v-160H620v160Z\"/>\n",
              "  </svg>\n",
              "    </button>\n",
              "\n",
              "  <style>\n",
              "    .colab-df-container {\n",
              "      display:flex;\n",
              "      gap: 12px;\n",
              "    }\n",
              "\n",
              "    .colab-df-convert {\n",
              "      background-color: #E8F0FE;\n",
              "      border: none;\n",
              "      border-radius: 50%;\n",
              "      cursor: pointer;\n",
              "      display: none;\n",
              "      fill: #1967D2;\n",
              "      height: 32px;\n",
              "      padding: 0 0 0 0;\n",
              "      width: 32px;\n",
              "    }\n",
              "\n",
              "    .colab-df-convert:hover {\n",
              "      background-color: #E2EBFA;\n",
              "      box-shadow: 0px 1px 2px rgba(60, 64, 67, 0.3), 0px 1px 3px 1px rgba(60, 64, 67, 0.15);\n",
              "      fill: #174EA6;\n",
              "    }\n",
              "\n",
              "    .colab-df-buttons div {\n",
              "      margin-bottom: 4px;\n",
              "    }\n",
              "\n",
              "    [theme=dark] .colab-df-convert {\n",
              "      background-color: #3B4455;\n",
              "      fill: #D2E3FC;\n",
              "    }\n",
              "\n",
              "    [theme=dark] .colab-df-convert:hover {\n",
              "      background-color: #434B5C;\n",
              "      box-shadow: 0px 1px 3px 1px rgba(0, 0, 0, 0.15);\n",
              "      filter: drop-shadow(0px 1px 2px rgba(0, 0, 0, 0.3));\n",
              "      fill: #FFFFFF;\n",
              "    }\n",
              "  </style>\n",
              "\n",
              "    <script>\n",
              "      const buttonEl =\n",
              "        document.querySelector('#df-3c8e8495-8f63-4d00-868b-b09564c75cf4 button.colab-df-convert');\n",
              "      buttonEl.style.display =\n",
              "        google.colab.kernel.accessAllowed ? 'block' : 'none';\n",
              "\n",
              "      async function convertToInteractive(key) {\n",
              "        const element = document.querySelector('#df-3c8e8495-8f63-4d00-868b-b09564c75cf4');\n",
              "        const dataTable =\n",
              "          await google.colab.kernel.invokeFunction('convertToInteractive',\n",
              "                                                    [key], {});\n",
              "        if (!dataTable) return;\n",
              "\n",
              "        const docLinkHtml = 'Like what you see? Visit the ' +\n",
              "          '<a target=\"_blank\" href=https://colab.research.google.com/notebooks/data_table.ipynb>data table notebook</a>'\n",
              "          + ' to learn more about interactive tables.';\n",
              "        element.innerHTML = '';\n",
              "        dataTable['output_type'] = 'display_data';\n",
              "        await google.colab.output.renderOutput(dataTable, element);\n",
              "        const docLink = document.createElement('div');\n",
              "        docLink.innerHTML = docLinkHtml;\n",
              "        element.appendChild(docLink);\n",
              "      }\n",
              "    </script>\n",
              "  </div>\n",
              "\n",
              "\n",
              "<div id=\"df-58abdbea-2893-4d6d-b707-a56ba9f177ff\">\n",
              "  <button class=\"colab-df-quickchart\" onclick=\"quickchart('df-58abdbea-2893-4d6d-b707-a56ba9f177ff')\"\n",
              "            title=\"Suggest charts\"\n",
              "            style=\"display:none;\">\n",
              "\n",
              "<svg xmlns=\"http://www.w3.org/2000/svg\" height=\"24px\"viewBox=\"0 0 24 24\"\n",
              "     width=\"24px\">\n",
              "    <g>\n",
              "        <path d=\"M19 3H5c-1.1 0-2 .9-2 2v14c0 1.1.9 2 2 2h14c1.1 0 2-.9 2-2V5c0-1.1-.9-2-2-2zM9 17H7v-7h2v7zm4 0h-2V7h2v10zm4 0h-2v-4h2v4z\"/>\n",
              "    </g>\n",
              "</svg>\n",
              "  </button>\n",
              "\n",
              "<style>\n",
              "  .colab-df-quickchart {\n",
              "      --bg-color: #E8F0FE;\n",
              "      --fill-color: #1967D2;\n",
              "      --hover-bg-color: #E2EBFA;\n",
              "      --hover-fill-color: #174EA6;\n",
              "      --disabled-fill-color: #AAA;\n",
              "      --disabled-bg-color: #DDD;\n",
              "  }\n",
              "\n",
              "  [theme=dark] .colab-df-quickchart {\n",
              "      --bg-color: #3B4455;\n",
              "      --fill-color: #D2E3FC;\n",
              "      --hover-bg-color: #434B5C;\n",
              "      --hover-fill-color: #FFFFFF;\n",
              "      --disabled-bg-color: #3B4455;\n",
              "      --disabled-fill-color: #666;\n",
              "  }\n",
              "\n",
              "  .colab-df-quickchart {\n",
              "    background-color: var(--bg-color);\n",
              "    border: none;\n",
              "    border-radius: 50%;\n",
              "    cursor: pointer;\n",
              "    display: none;\n",
              "    fill: var(--fill-color);\n",
              "    height: 32px;\n",
              "    padding: 0;\n",
              "    width: 32px;\n",
              "  }\n",
              "\n",
              "  .colab-df-quickchart:hover {\n",
              "    background-color: var(--hover-bg-color);\n",
              "    box-shadow: 0 1px 2px rgba(60, 64, 67, 0.3), 0 1px 3px 1px rgba(60, 64, 67, 0.15);\n",
              "    fill: var(--button-hover-fill-color);\n",
              "  }\n",
              "\n",
              "  .colab-df-quickchart-complete:disabled,\n",
              "  .colab-df-quickchart-complete:disabled:hover {\n",
              "    background-color: var(--disabled-bg-color);\n",
              "    fill: var(--disabled-fill-color);\n",
              "    box-shadow: none;\n",
              "  }\n",
              "\n",
              "  .colab-df-spinner {\n",
              "    border: 2px solid var(--fill-color);\n",
              "    border-color: transparent;\n",
              "    border-bottom-color: var(--fill-color);\n",
              "    animation:\n",
              "      spin 1s steps(1) infinite;\n",
              "  }\n",
              "\n",
              "  @keyframes spin {\n",
              "    0% {\n",
              "      border-color: transparent;\n",
              "      border-bottom-color: var(--fill-color);\n",
              "      border-left-color: var(--fill-color);\n",
              "    }\n",
              "    20% {\n",
              "      border-color: transparent;\n",
              "      border-left-color: var(--fill-color);\n",
              "      border-top-color: var(--fill-color);\n",
              "    }\n",
              "    30% {\n",
              "      border-color: transparent;\n",
              "      border-left-color: var(--fill-color);\n",
              "      border-top-color: var(--fill-color);\n",
              "      border-right-color: var(--fill-color);\n",
              "    }\n",
              "    40% {\n",
              "      border-color: transparent;\n",
              "      border-right-color: var(--fill-color);\n",
              "      border-top-color: var(--fill-color);\n",
              "    }\n",
              "    60% {\n",
              "      border-color: transparent;\n",
              "      border-right-color: var(--fill-color);\n",
              "    }\n",
              "    80% {\n",
              "      border-color: transparent;\n",
              "      border-right-color: var(--fill-color);\n",
              "      border-bottom-color: var(--fill-color);\n",
              "    }\n",
              "    90% {\n",
              "      border-color: transparent;\n",
              "      border-bottom-color: var(--fill-color);\n",
              "    }\n",
              "  }\n",
              "</style>\n",
              "\n",
              "  <script>\n",
              "    async function quickchart(key) {\n",
              "      const quickchartButtonEl =\n",
              "        document.querySelector('#' + key + ' button');\n",
              "      quickchartButtonEl.disabled = true;  // To prevent multiple clicks.\n",
              "      quickchartButtonEl.classList.add('colab-df-spinner');\n",
              "      try {\n",
              "        const charts = await google.colab.kernel.invokeFunction(\n",
              "            'suggestCharts', [key], {});\n",
              "      } catch (error) {\n",
              "        console.error('Error during call to suggestCharts:', error);\n",
              "      }\n",
              "      quickchartButtonEl.classList.remove('colab-df-spinner');\n",
              "      quickchartButtonEl.classList.add('colab-df-quickchart-complete');\n",
              "    }\n",
              "    (() => {\n",
              "      let quickchartButtonEl =\n",
              "        document.querySelector('#df-58abdbea-2893-4d6d-b707-a56ba9f177ff button');\n",
              "      quickchartButtonEl.style.display =\n",
              "        google.colab.kernel.accessAllowed ? 'block' : 'none';\n",
              "    })();\n",
              "  </script>\n",
              "</div>\n",
              "    </div>\n",
              "  </div>\n"
            ],
            "application/vnd.google.colaboratory.intrinsic+json": {
              "type": "dataframe",
              "variable_name": "data_ru",
              "summary": "{\n  \"name\": \"data_ru\",\n  \"rows\": 23483,\n  \"fields\": [\n    {\n      \"column\": \"publ_id\",\n      \"properties\": {\n        \"dtype\": \"number\",\n        \"std\": 8060939,\n        \"min\": 1,\n        \"max\": 1234567890,\n        \"num_unique_values\": 23483,\n        \"samples\": [\n          1774,\n          9721,\n          1000747\n        ],\n        \"semantic_type\": \"\",\n        \"description\": \"\"\n      }\n    },\n    {\n      \"column\": \"publ_name\",\n      \"properties\": {\n        \"dtype\": \"string\",\n        \"num_unique_values\": 22790,\n        \"samples\": [\n          \"\\u041f\\u0435\\u0440\\u0441\\u043f\\u0435\\u043a\\u0442\\u0438\\u0432\\u044b \\u0438\\u0441\\u0441\\u043b\\u0435\\u0434\\u043e\\u0432\\u0430\\u043d\\u0438\\u044f \\u0432 \\u043e\\u0431\\u043b\\u0430\\u0441\\u0442\\u0438 \\u043f\\u043e\\u0432\\u044b\\u0448\\u0435\\u043d\\u0438\\u044f \\u044d\\u0444\\u0444\\u0435\\u043a\\u0442\\u0438\\u0432\\u043d\\u043e\\u0441\\u0442\\u0438 \\u0441\\u043e\\u0432\\u0435\\u0449\\u0430\\u043d\\u0438\\u0439\",\n          \"\\u041c\\u0435\\u0442\\u043e\\u0434\\u044b \\u043e\\u043f\\u0435\\u0440\\u0430\\u0442\\u0438\\u0432\\u043d\\u043e\\u0433\\u043e \\u043e\\u043f\\u0440\\u0435\\u0434\\u0435\\u043b\\u0435\\u043d\\u0438\\u044f \\u043d\\u0435 \\u0438\\u0437\\u043c\\u0435\\u0440\\u044f\\u0435\\u043c\\u044b\\u0445 \\u043f\\u043e\\u0442\\u043e\\u0447\\u043d\\u044b\\u043c\\u0438 \\u043f\\u0440\\u0438\\u0431\\u043e\\u0440\\u0430\\u043c\\u0438 \\u043a\\u0430\\u0447\\u0435\\u0441\\u0442\\u0432\\u0435\\u043d\\u043d\\u044b\\u0445 \\u043f\\u043e\\u043a\\u0430\\u0437\\u0430\\u0442\\u0435\\u043b\\u0435\\u0439 \\u0445\\u0438\\u043c\\u0438\\u043a\\u043e-\\u0442\\u0435\\u0445\\u043d\\u043e\\u043b\\u043e\\u0433\\u0438\\u0447\\u0435\\u0441\\u043a\\u0438\\u0445 \\u043f\\u0440\\u043e\\u0446\\u0435\\u0441\\u0441\\u043e\\u0432. \\u0410\\u0432\\u0442\\u043e\\u043c\\u0430\\u0442\\u0438\\u0437\\u0430\\u0446\\u0438\\u044f \\u0432 \\u043f\\u0440\\u043e\\u043c\\u044b\\u0448\\u043b\\u0435\\u043d\\u043d\\u043e\\u0441\\u0442\\u0438\",\n          \"\\u041c\\u0435\\u0442\\u043e\\u0434 \\u043e\\u0442\\u0440\\u0430\\u0436\\u0435\\u043d\\u0438\\u044f \\u0432 \\u043f\\u0440\\u043e\\u0433\\u0440\\u0430\\u043c\\u043c\\u0438\\u0440\\u043e\\u0432\\u0430\\u043d\\u0438\\u0438 \\u0442\\u0440\\u0443\\u0434\\u043d\\u043e\\u0434\\u0435\\u0442\\u0435\\u0440\\u043c\\u0438\\u043d\\u0438\\u0440\\u043e\\u0432\\u0430\\u043d\\u043d\\u044b\\u0445 \\u0437\\u0430\\u0434\\u0430\\u0447\"\n        ],\n        \"semantic_type\": \"\",\n        \"description\": \"\"\n      }\n    },\n    {\n      \"column\": \"year\",\n      \"properties\": {\n        \"dtype\": \"number\",\n        \"std\": 8,\n        \"min\": 1921,\n        \"max\": 2024,\n        \"num_unique_values\": 82,\n        \"samples\": [\n          1963,\n          2005,\n          1966\n        ],\n        \"semantic_type\": \"\",\n        \"description\": \"\"\n      }\n    },\n    {\n      \"column\": \"annotation\",\n      \"properties\": {\n        \"dtype\": \"string\",\n        \"num_unique_values\": 23189,\n        \"samples\": [\n          \"\\u0412 \\u0440\\u0430\\u0431\\u043e\\u0442\\u0435 \\u0440\\u0430\\u0441\\u0441\\u043c\\u0430\\u0442\\u0440\\u0438\\u0432\\u0430\\u0435\\u0442\\u0441\\u044f \\u0437\\u0430\\u0434\\u0430\\u0447\\u0430 \\u0441\\u0442\\u0430\\u0431\\u0438\\u043b\\u0438\\u0437\\u0430\\u0446\\u0438\\u0438 \\u0441\\u0438\\u0441\\u0442\\u0435\\u043c\\u044b, \\u043f\\u0440\\u0435\\u0434\\u0441\\u0442\\u0430\\u0432\\u043b\\u044f\\u044e\\u0449\\u0435\\u0439 \\u0441\\u043e\\u0431\\u043e\\u0439 \\u0446\\u0435\\u043f\\u043e\\u0447\\u043a\\u0443 \\u0438\\u043d\\u0442\\u0435\\u0433\\u0440\\u0430\\u0442\\u043e\\u0440\\u043e\\u0432, \\u0432 \\u0443\\u0441\\u043b\\u043e\\u0432\\u0438\\u044f\\u0445 \\u043d\\u0435\\u043e\\u043f\\u0440\\u0435\\u0434\\u0435\\u043b\\u0435\\u043d\\u043d\\u044b\\u0439 \\u043d\\u0435\\u043b\\u0438\\u043d\\u0435\\u0439\\u043d\\u044b\\u0445 \\u0438\\u0437\\u043c\\u0435\\u0440\\u0435\\u043d\\u0438\\u0439: \\u0435\\u0434\\u0438\\u043d\\u0441\\u0442\\u0432\\u0435\\u043d\\u043d\\u044b\\u043c\\u0438 \\u0434\\u0430\\u043d\\u043d\\u044b\\u043c\\u0438, \\u0434\\u043e\\u0441\\u0442\\u0443\\u043f\\u043d\\u044b\\u043c\\u0438 \\u0434\\u043b\\u044f \\u043f\\u043e\\u0441\\u0442\\u0440\\u043e\\u0435\\u043d\\u0438\\u044f \\u043e\\u0431\\u0440\\u0430\\u0442\\u043d\\u043e\\u0439 \\u0441\\u0432\\u044f\\u0437\\u0438, \\u044f\\u0432\\u043b\\u044f\\u044e\\u0442\\u0441\\u044f \\u0437\\u043d\\u0430\\u043a\\u0438 \\u0444\\u0430\\u0437\\u043e\\u0432\\u044b\\u0445 \\u043f\\u0435\\u0440\\u0435\\u043c\\u0435\\u043d\\u043d\\u044b\\u0445. \\u041f\\u0440\\u0435\\u0434\\u043b\\u0430\\u0433\\u0430\\u0435\\u0442\\u0441\\u044f \\u0430\\u043b\\u0433\\u043e\\u0440\\u0438\\u0442\\u043c \\u0443\\u043f\\u0440\\u0430\\u0432\\u043b\\u0435\\u043d\\u0438\\u044f \\u0441\\u043e \\u0441\\u043a\\u043e\\u043b\\u044c\\u0437\\u044f\\u0449\\u0438\\u043c\\u0438 \\u0440\\u0435\\u0436\\u0438\\u043c\\u0430\\u043c\\u0438 \\u0432\\u044b\\u0441\\u0448\\u0438\\u0445 \\u043f\\u043e\\u0440\\u044f\\u0434\\u043a\\u043e\\u0432, \\u043e\\u0431\\u0435\\u0441\\u043f\\u0435\\u0447\\u0438\\u0432\\u0430\\u044e\\u0449\\u0438\\u0445 \\u0441\\u0432\\u0435\\u0434\\u0435\\u043d\\u0438\\u0435 \\u0432 \\u043d\\u043e\\u043b\\u044c \\u0432\\u044b\\u0445\\u043e\\u0434\\u0430 \\u0441\\u0438\\u0441\\u0442\\u0435\\u043c\\u044b \\u0437\\u0430 \\u043a\\u043e\\u043d\\u0435\\u0447\\u043d\\u043e\\u0435 \\u0432\\u0440\\u0435\\u043c\\u044f. \\u0410\\u043b\\u0433\\u043e\\u0440\\u0438\\u0442\\u043c\\u044b \\u043f\\u043e\\u0434\\u043e\\u0431\\u043d\\u043e\\u0433\\u043e \\u0440\\u043e\\u0434\\u0430 \\u0438\\u0437\\u0432\\u0435\\u0441\\u0442\\u043d\\u044b \\u0434\\u043b\\u044f \\u0441\\u0438\\u0441\\u0442\\u0435\\u043c\\u044b \\u043f\\u0435\\u0440\\u0432\\u043e\\u0433\\u043e, \\u0432\\u0442\\u043e\\u0440\\u043e\\u0433\\u043e \\u0438 \\u0442\\u0440\\u0435\\u0442\\u044c\\u0435\\u0433\\u043e \\u043f\\u043e\\u0440\\u044f\\u0434\\u043a\\u043e\\u0432. \\u0412 \\u043d\\u0430\\u0441\\u0442\\u043e\\u044f\\u0449\\u0435\\u0439 \\u0440\\u0430\\u0431\\u043e\\u0442\\u0435 \\u0440\\u0435\\u0437\\u0443\\u043b\\u044c\\u0442\\u0430\\u0442\\u044b [1], \\u0441\\u0432\\u044f\\u0437\\u0430\\u043d\\u043d\\u044b\\u0435 \\u0441\\u043e \\u0441\\u0442\\u0430\\u0431\\u0438\\u043b\\u0438\\u0437\\u0430\\u0446\\u0438\\u0435\\u0439 \\u0442\\u0440\\u043e\\u0439\\u043d\\u043e\\u0433\\u043e \\u0438\\u043d\\u0442\\u0435\\u0433\\u0440\\u0430\\u0442\\u043e\\u0440\\u0430, \\u043e\\u0431\\u043e\\u0431\\u0449\\u0430\\u044e\\u0442\\u0441\\u044f \\u043d\\u0430 \\u0446\\u0435\\u043f\\u043e\\u0447\\u043a\\u0438 \\u0438\\u043d\\u0442\\u0435\\u0433\\u0440\\u0430\\u0442\\u043e\\u0440\\u043e\\u0432 \\u043f\\u0440\\u043e\\u0438\\u0437\\u0432\\u043e\\u043b\\u044c\\u043d\\u043e\\u0439 \\u0434\\u043b\\u0438\\u043d\\u044b.\",\n          \"\\u0412 \\u0440\\u0430\\u0431\\u043e\\u0442\\u0435 \\u043f\\u0440\\u0435\\u0434\\u043b\\u043e\\u0436\\u0435\\u043d \\u043d\\u043e\\u0432\\u044b\\u0439 \\u043f\\u043e\\u0434\\u0445\\u043e\\u0434 \\u043a \\u0440\\u0435\\u0448\\u0435\\u043d\\u0438\\u044e \\u0437\\u0430\\u0434\\u0430\\u0447\\u0438 \\u043e\\u043f\\u0435\\u0440\\u0430\\u0442\\u0438\\u0432\\u043d\\u043e\\u0433\\u043e \\u043e\\u043f\\u0440\\u0435\\u0434\\u0435\\u043b\\u0435\\u043d\\u0438\\u044f \\u0432 \\u043f\\u043e\\u043b\\u0435\\u0432\\u044b\\u0445 \\u0443\\u0441\\u043b\\u043e\\u0432\\u0438\\u044f\\u0445 \\u0441\\u0438\\u0441\\u0442\\u0435\\u043c\\u0430\\u0442\\u0438\\u0447\\u0435\\u0441\\u043a\\u043e\\u0439 \\u043e\\u0448\\u0438\\u0431\\u043a\\u0438 \\u0441\\u0431\\u0440\\u043e\\u0441\\u0430 \\u0441\\u0432\\u043e\\u0431\\u043e\\u0434\\u043d\\u043e\\u043f\\u0430\\u0434\\u0430\\u044e\\u0449\\u0438\\u0445 \\u043d\\u0435\\u0443\\u043f\\u0440\\u0430\\u0432\\u043b\\u044f\\u0435\\u043c\\u044b\\u0445 \\u043a\\u043e\\u043d\\u0442\\u0435\\u0439\\u043d\\u0435\\u0440\\u043e\\u0432 \\u043f\\u0435\\u0440\\u0441\\u043f\\u0435\\u043a\\u0442\\u0438\\u0432\\u043d\\u044b\\u043c\\u0438 \\u0443\\u0434\\u0430\\u0440\\u043d\\u044b\\u043c\\u0438\\r\\n\\u0431\\u0435\\u0441\\u043f\\u0438\\u043b\\u043e\\u0442\\u043d\\u044b\\u043c\\u0438 \\u043b\\u0435\\u0442\\u0430\\u0442\\u0435\\u043b\\u044c\\u043d\\u044b\\u043c\\u0438 \\u0430\\u043f\\u043f\\u0430\\u0440\\u0430\\u0442\\u0430\\u043c\\u0438 \\u043c\\u0430\\u043b\\u043e\\u0433\\u043e \\u043a\\u043b\\u0430\\u0441\\u0441\\u0430. \\u0420\\u0430\\u0437\\u0440\\u0430\\u0431\\u043e\\u0442\\u0430\\u043d\\u044b \\u0441\\u043f\\u043e\\u0441\\u043e\\u0431\\u044b \\u043e\\u0446\\u0435\\u043d\\u043a\\u0438 \\u043f\\u0430\\u0440\\u0430\\u043c\\u0435\\u0442\\u0440\\u043e\\u0432 \\u043e\\u0442\\u043a\\u043b\\u043e\\u043d\\u0435\\u043d\\u0438\\u0439 \\u0442\\u043e\\u0447\\u0435\\u043a \\u043f\\u0430\\u0434\\u0435\\u043d\\u0438\\u044f \\u0441\\u0432\\u043e\\u0431\\u043e\\u0434\\u043d\\u043e\\u043f\\u0430\\u0434\\u0430\\u044e\\u0449\\u0438\\u0445 \\u043d\\u0435\\u0443\\u043f\\u0440\\u0430\\u0432\\u043b\\u044f\\u0435\\u043c\\u044b\\u0445 \\u043a\\u043e\\u043d\\u0442\\u0435\\u0439\\u043d\\u0435\\u0440\\u043e\\u0432 \\u043d\\u0430 \\u043e\\u0441\\u043d\\u043e\\u0432\\u0435 \\u043c\\u043e\\u0434\\u0438\\u0444\\u0438\\u043a\\u0430\\u0446\\u0438\\u0438 \\u0441\\u043f\\u043e\\u0441\\u043e\\u0431\\u0430 \\u043e\\u0431\\u043c\\u0435\\u0440\\u0430 \\u0438 \\u0441\\u043f\\u043e\\u0441\\u043e\\u0431\\u0430 \\u0437\\u0430\\u0441\\u0435\\u0447\\u0435\\u043a.\\r\\n\\u0420\\u0430\\u0437\\u0440\\u0430\\u0431\\u043e\\u0442\\u0430\\u043d\\u043d\\u044b\\u0435 \\u0441\\u043f\\u043e\\u0441\\u043e\\u0431\\u044b \\u043e\\u0442\\u043b\\u0438\\u0447\\u0430\\u044e\\u0442\\u0441\\u044f \\u043e\\u0442 \\u0438\\u0437\\u0432\\u0435\\u0441\\u0442\\u043d\\u044b\\u0445 \\u043f\\u043e\\u0432\\u044b\\u0448\\u0435\\u043d\\u043d\\u043e\\u0439 \\u0442\\u043e\\u0447\\u043d\\u043e\\u0441\\u0442\\u044c\\u044e, \\u043e\\u043f\\u0435\\u0440\\u0430\\u0442\\u0438\\u0432\\u043d\\u043e\\u0441\\u0442\\u044c\\u044e \\u0438 \\u044d\\u043a\\u043e\\u043d\\u043e\\u043c\\u0438\\u0447\\u043d\\u043e\\u0441\\u0442\\u044c\\u044e.\",\n          \"\\u041a\\u043d\\u0438\\u0433\\u0430 \\u043f\\u0440\\u0435\\u0434\\u043d\\u0430\\u0437\\u043d\\u0430\\u0447\\u0435\\u043d\\u0430 \\u0434\\u043b\\u044f \\u043f\\u0440\\u0435\\u043f\\u043e\\u0434\\u0430\\u0432\\u0430\\u0442\\u0435\\u043b\\u0435\\u0439 \\u0438 \\u0441\\u0442\\u0443\\u0434\\u0435\\u043d\\u0442\\u043e\\u0432 \\u0441\\u043f\\u0435\\u0446\\u0438\\u0430\\u043b\\u044c\\u043d\\u043e\\u0441\\u0442\\u0438 \\u00ab\\u0430\\u0432\\u0442\\u043e\\u043c\\u0430\\u0442\\u0438\\u043a\\u0430 \\u0438 \\u0442\\u0435\\u043b\\u0435\\u043c\\u0435\\u0445\\u0430\\u043d\\u0438\\u043a\\u0430\\u00bb \\u0438 \\u043c\\u043e\\u0436\\u0435\\u0442 \\u0431\\u044b\\u0442\\u044c \\u0438\\u0441\\u043f\\u043e\\u043b\\u044c\\u0437\\u043e\\u0432\\u0430\\u043d\\u0430 \\u0442\\u0430\\u043a\\u0436\\u0435 \\u0430\\u0441\\u043f\\u0438\\u0440\\u0430\\u043d\\u0442\\u0430\\u043c\\u0438 \\u043f\\u0440\\u0438 \\u0438\\u0437\\u0443\\u0447\\u0435\\u043d\\u0438\\u0438 \\u043a\\u0443\\u0440\\u0441\\u0430 \\u0442\\u0435\\u043e\\u0440\\u0438\\u0438 \\u0440\\u0435\\u0433\\u0443\\u043b\\u0438\\u0440\\u043e\\u0432\\u0430\\u043d\\u0438\\u044f, \\u0438\\u043d\\u0436\\u0435\\u043d\\u0435\\u0440\\u0430\\u043c\\u0438 \\u0438 \\u043d\\u0430\\u0443\\u0447\\u043d\\u044b\\u043c\\u0438 \\u0440\\u0430\\u0431\\u043e\\u0442\\u043d\\u0438\\u043a\\u0430\\u043c\\u0438 \\u043f\\u0440\\u0438 \\u0441\\u0430\\u043c\\u043e\\u0441\\u0442\\u043e\\u044f\\u0442\\u0435\\u043b\\u044c\\u043d\\u043e\\u043c \\u0438\\u0437\\u0443\\u0447\\u0435\\u043d\\u0438\\u0438 \\u0432\\u043e\\u043f\\u0440\\u043e\\u0441\\u043e\\u0432 \\u0442\\u0435\\u043e\\u0440\\u0438\\u0438.\"\n        ],\n        \"semantic_type\": \"\",\n        \"description\": \"\"\n      }\n    },\n    {\n      \"column\": \"language\",\n      \"properties\": {\n        \"dtype\": \"category\",\n        \"num_unique_values\": 1,\n        \"samples\": [\n          \"ru\"\n        ],\n        \"semantic_type\": \"\",\n        \"description\": \"\"\n      }\n    }\n  ]\n}"
            }
          },
          "metadata": {},
          "execution_count": 12
        }
      ]
    },
    {
      "cell_type": "markdown",
      "source": [
        "Найдем самые популярные темы исследования для определения целевой функции. Это можно сделать частотным методом, выбрав самые встречающиеся темы из названия статей."
      ],
      "metadata": {
        "id": "X10_Q81Te9Vd"
      }
    },
    {
      "cell_type": "code",
      "source": [
        "def preprocess_text(text):\n",
        "    text = text.lower()\n",
        "    text = re.sub(r'[^\\w\\s]', '', text)\n",
        "    words = nltk.word_tokenize(text)\n",
        "    words = [word for word in words if word not in stop_words]\n",
        "    words = [lemmatizer.lemmatize(word) for word in words]\n",
        "    return ' '.join(words)"
      ],
      "metadata": {
        "id": "kvIJtdeSe8xe"
      },
      "execution_count": 13,
      "outputs": []
    },
    {
      "cell_type": "code",
      "source": [
        " nltk.download('stopwords')\n",
        " nltk.download('punkt')\n",
        " nltk.download('wordnet')\n",
        "stop_words = set(stopwords.words('russian'))\n",
        "lemmatizer = WordNetLemmatizer()"
      ],
      "metadata": {
        "colab": {
          "base_uri": "https://localhost:8080/"
        },
        "id": "PPALqpdcmkVZ",
        "outputId": "5d047981-ced2-491b-b40f-ca870de3557c"
      },
      "execution_count": 14,
      "outputs": [
        {
          "output_type": "stream",
          "name": "stderr",
          "text": [
            "[nltk_data] Downloading package stopwords to /root/nltk_data...\n",
            "[nltk_data]   Package stopwords is already up-to-date!\n",
            "[nltk_data] Downloading package punkt to /root/nltk_data...\n",
            "[nltk_data]   Package punkt is already up-to-date!\n",
            "[nltk_data] Downloading package wordnet to /root/nltk_data...\n",
            "[nltk_data]   Package wordnet is already up-to-date!\n"
          ]
        }
      ]
    },
    {
      "cell_type": "code",
      "source": [
        "titles = data_ru['annotation']\n",
        "\n",
        "processed_titles = titles.apply(preprocess_text)\n",
        "\n",
        "all_words = ' '.join(processed_titles).split()\n",
        "\n",
        "bigrams = ngrams(all_words, 2)\n",
        "bigram_counts = Counter(bigrams)\n",
        "\n",
        "most_common_bigrams = bigram_counts.most_common(10)\n",
        "print(\"Самые популярные темы исследования:\")\n",
        "for bigram, count in most_common_bigrams:\n",
        "    print(f\"{' '.join(bigram)}: {count}\")"
      ],
      "metadata": {
        "colab": {
          "base_uri": "https://localhost:8080/"
        },
        "id": "xXXQDKlAldbW",
        "outputId": "c0f00587-25de-4ec1-8b36-9aeb929c34fd"
      },
      "execution_count": 15,
      "outputs": [
        {
          "output_type": "stream",
          "name": "stdout",
          "text": [
            "Самые популярные темы исследования:\n",
            "of the: 3398\n",
            "in the: 1328\n",
            "систем управления: 753\n",
            "on the: 748\n",
            "рассматривается задача: 688\n",
            "системы управления: 665\n",
            "принятия решений: 653\n",
            "to the: 542\n",
            "решения задачи: 534\n",
            "of a: 526\n"
          ]
        }
      ]
    },
    {
      "cell_type": "code",
      "source": [
        "bigrams = ngrams(all_words, 3)\n",
        "bigram_counts = Counter(bigrams)\n",
        "\n",
        "most_common_bigrams = bigram_counts.most_common(10)\n",
        "print(\"Самые популярные темы исследования:\")\n",
        "for bigram, count in most_common_bigrams:\n",
        "    print(f\"{' '.join(bigram)}: {count}\")"
      ],
      "metadata": {
        "colab": {
          "base_uri": "https://localhost:8080/"
        },
        "id": "QCbOgfhymH0H",
        "outputId": "88a46a31-74c4-4b33-bec2-13d3ae6ec892"
      },
      "execution_count": 16,
      "outputs": [
        {
          "output_type": "stream",
          "name": "stdout",
          "text": [
            "Самые популярные темы исследования:\n",
            "the problem of: 252\n",
            "поддержки принятия решений: 224\n",
            "based on the: 182\n",
            "the result of: 154\n",
            "беспилотных летательных аппаратов: 141\n",
            "линейных матричных неравенств: 129\n",
            "a well a: 129\n",
            "the basis of: 126\n",
            "on the basis: 120\n",
            "the use of: 120\n"
          ]
        }
      ]
    },
    {
      "cell_type": "code",
      "source": [
        "bigrams = ngrams(all_words, 4)\n",
        "bigram_counts = Counter(bigrams)\n",
        "\n",
        "most_common_bigrams = bigram_counts.most_common(10)\n",
        "print(\"Самые популярные темы исследования:\")\n",
        "for bigram, count in most_common_bigrams:\n",
        "    print(f\"{' '.join(bigram)}: {count}\")"
      ],
      "metadata": {
        "colab": {
          "base_uri": "https://localhost:8080/"
        },
        "id": "LjqhKDkfsuH4",
        "outputId": "069e6ea9-a447-4e25-b5ba-0cc85d71f351"
      },
      "execution_count": 17,
      "outputs": [
        {
          "output_type": "stream",
          "name": "stdout",
          "text": [
            "Самые популярные темы исследования:\n",
            "on the basis of: 119\n",
            "пульсового сигнала лучевой артерии: 80\n",
            "it is shown that: 71\n",
            "студентов высших учебных заведений: 61\n",
            "системы поддержки принятия решений: 54\n",
            "студентов преподавателей инженеров научных: 49\n",
            "преподавателей инженеров научных работников: 49\n",
            "is based on the: 46\n",
            "the basis of the: 45\n",
            "the result of the: 43\n"
          ]
        }
      ]
    },
    {
      "cell_type": "code",
      "source": [
        "def recommend_articles(user_preferences):\n",
        "    # Фильтрация статей по предпочтениям пользователя\n",
        "    recommended = data[data['annotation'].str.contains('|'.join(user_preferences), case=False)]\n",
        "\n",
        "    # Сортировка по популярности (можно добавить больше критериев)\n",
        "    recommended = recommended.sort_values(by='year', ascending=False)  # или другой признак\n",
        "    return recommended[['publ_id', 'publ_name', 'year']]"
      ],
      "metadata": {
        "id": "7zFar9ElJKd2"
      },
      "execution_count": 18,
      "outputs": []
    },
    {
      "cell_type": "code",
      "source": [
        "# Числовые признаки\n",
        "num_cols = [\n",
        "    'publ_id',\n",
        "    'year'\n",
        "]\n",
        "\n",
        "# Категориальные признаки\n",
        "cat_cols = [\n",
        "    'publ_name',\n",
        "    'annotation',\n",
        "    'language'\n",
        "]\n",
        "\n",
        "feature_cols = num_cols + cat_cols\n",
        "target_col = '?'"
      ],
      "metadata": {
        "id": "lNBYQxHteFAQ"
      },
      "execution_count": 19,
      "outputs": []
    },
    {
      "cell_type": "markdown",
      "source": [],
      "metadata": {
        "id": "C_9EMnYHUR13"
      }
    },
    {
      "cell_type": "code",
      "source": [
        "device = \"cuda\" if torch.cuda.is_available() else \"cpu\""
      ],
      "metadata": {
        "id": "2aYdkyIfeiBz"
      },
      "execution_count": 20,
      "outputs": []
    },
    {
      "cell_type": "code",
      "source": [
        "from sklearn.feature_extraction.text import TfidfVectorizer\n",
        "\n",
        "# Preprocess the 'annotation' column\n",
        "tfidf_vectorizer = TfidfVectorizer(stop_words='english')\n",
        "data_small = data_en[:][:10000]\n",
        "tfidf_matrix = tfidf_vectorizer.fit_transform(data_small['annotation'])\n",
        "\n",
        "# Combine with other features (e.g., year)\n",
        "# Assuming 'year' is already numeric; if not, you may need to encode it\n",
        "features = pd.DataFrame(tfidf_matrix.toarray())\n",
        "#features['year'] = data_en['year'].astype(str)"
      ],
      "metadata": {
        "id": "b4ncOBSXck7s"
      },
      "execution_count": 34,
      "outputs": []
    },
    {
      "cell_type": "code",
      "source": [
        "from sklearn.decomposition import PCA\n",
        "import matplotlib.pyplot as plt\n",
        "\n",
        "# Reduce dimensions for visualization\n",
        "pca = PCA(n_components=2)\n",
        "reduced_features = pca.fit_transform(features)\n",
        "\n",
        "# Visualize the reduced features\n",
        "plt.scatter(reduced_features[:, 0], reduced_features[:, 1])\n",
        "plt.title('PCA of Article Features')\n",
        "plt.xlabel('Component 1')\n",
        "plt.ylabel('Component 2')\n",
        "plt.show()"
      ],
      "metadata": {
        "colab": {
          "base_uri": "https://localhost:8080/",
          "height": 472
        },
        "id": "nz7S_fHZcV7C",
        "outputId": "d958cbda-1d95-4a54-8701-879557bc825e"
      },
      "execution_count": 35,
      "outputs": [
        {
          "output_type": "display_data",
          "data": {
            "text/plain": [
              "<Figure size 640x480 with 1 Axes>"
            ],
            "image/png": "[encoded data removed]"
          },
          "metadata": {}
        }
      ]
    },
    {
      "cell_type": "code",
      "source": [
        "from sklearn.cluster import KMeans\n",
        "\n",
        "# Apply K-Means clustering\n",
        "num_clusters = 5  # You can adjust this number\n",
        "kmeans = KMeans(n_clusters=num_clusters, random_state=42)\n",
        "data_small['cluster'] = kmeans.fit_predict(features)\n",
        "\n",
        "# Display cluster assignments\n",
        "print(data_small[['publ_id', 'publ_name', 'cluster']])"
      ],
      "metadata": {
        "colab": {
          "base_uri": "https://localhost:8080/"
        },
        "id": "m11a1JcTcZfs",
        "outputId": "2be757ef-a804-4e2e-d547-a4854e170b87"
      },
      "execution_count": 36,
      "outputs": [
        {
          "output_type": "stream",
          "name": "stdout",
          "text": [
            "       publ_id                                          publ_name  cluster\n",
            "3            4   VSS Error Feedback Regulation for Linear Systems        3\n",
            "7            8  Direct Synthesis of Sliding Modes Identifier f...        3\n",
            "8            9    On Stabilization Problem for Non-Linear Systems        3\n",
            "15          16            Controlling Chaos by Predictive Control        3\n",
            "57          58  Voting Strategies in a Stochastic Environment:...        4\n",
            "...        ...                                                ...      ...\n",
            "36694  1004679  Classification of Aerial Manipulation Systems ...        3\n",
            "36701  1004686  Fermilab Testbeam Facility Annual Report – FY ...        4\n",
            "36702  1004687  Automatic fingersign-to-speech translation system        4\n",
            "36703  1004688  Trends in Development of UAV-UGV Cooperation A...        4\n",
            "36704  1004689  Multimodal Synthesizer for Russian and Czech S...        0\n",
            "\n",
            "[10000 rows x 3 columns]\n"
          ]
        }
      ]
    },
    {
      "cell_type": "code",
      "source": [
        "def recommend_articles(article_id, num_recommendations=5):\n",
        "    # Find the cluster of the given article\n",
        "    cluster_id = data_small.loc[data_small['publ_id'] == article_id, 'cluster'].values[0]\n",
        "\n",
        "    # Recommend articles from the same cluster\n",
        "    recommendations = data_small[data_small['cluster'] == cluster_id].sample(num_recommendations)\n",
        "    return recommendations[['publ_id', 'publ_name']]\n",
        "\n",
        "# Example usage\n",
        "some_article_id = 4\n",
        "print(recommend_articles(some_article_id))"
      ],
      "metadata": {
        "colab": {
          "base_uri": "https://localhost:8080/"
        },
        "id": "p8L2F95CcbMS",
        "outputId": "b6c7d453-dee4-4249-8cfd-712d2822811d"
      },
      "execution_count": 40,
      "outputs": [
        {
          "output_type": "stream",
          "name": "stdout",
          "text": [
            "       publ_id                                          publ_name\n",
            "31013    31583  Synthesis of a Discontinuous Control Law for a...\n",
            "28462    28990  Suboptimal Control of Nonlinear Dynamic System...\n",
            "21722    21888  Second order conditions in optimal control pro...\n",
            "34794  1002779  Feedback Optimality Conditions with Weakly Inv...\n",
            "15344    15469  Ellipsoidal motions for applied control: from ...\n"
          ]
        }
      ]
    },
    {
      "cell_type": "code",
      "source": [
        "import torch\n",
        "from transformers import BertTokenizer, BertModel\n",
        "import matplotlib.pyplot as plt\n",
        "from sklearn.decomposition import PCA\n",
        "\n",
        "# Load pre-trained model tokenizer (vocabulary) for Russian\n",
        "tokenizer = BertTokenizer.from_pretrained('DeepPavlov/rubert-base-cased')\n",
        "\n",
        "# Load pre-trained model for Russian\n",
        "model = BertModel.from_pretrained('DeepPavlov/rubert-base-cased')\n",
        "\n",
        "\n",
        "# Example input text\n",
        "texts = np.array(data_ru['publ_name'][:1000])\n",
        "\n",
        "# Prepare inputs and get embeddings\n",
        "embeddings = []\n",
        "\n",
        "for text in texts:\n",
        "    # Encode the text using the BERT tokenizer\n",
        "    inputs = tokenizer(text, return_tensors='pt')\n",
        "\n",
        "    # Forward pass through the model\n",
        "    with torch.no_grad():\n",
        "        outputs = model(**inputs)\n",
        "\n",
        "    # Get the embeddings for the first token ([CLS] token)\n",
        "    cls_embedding = outputs.last_hidden_state[:, 0, :].numpy()  # Shape: (1, hidden_size)\n",
        "    embeddings.append(cls_embedding)\n",
        "\n",
        "# Convert embeddings to a numpy array\n",
        "embeddings = np.vstack(embeddings)\n",
        "\n",
        "# Reduce dimensionality using PCA for visualization\n",
        "pca = PCA(n_components=2)\n",
        "reduced_embeddings = pca.fit_transform(embeddings)\n",
        "\n",
        "# Create a scatter plot of the reduced embeddings\n",
        "plt.figure(figsize=(10, 6))\n",
        "plt.scatter(reduced_embeddings[:, 0], reduced_embeddings[:, 1])\n",
        "\n",
        "plt.title('BERT Embeddings Visualized with PCA')\n",
        "plt.xlabel('PCA Component 1')\n",
        "plt.ylabel('PCA Component 2')\n",
        "plt.grid()\n",
        "plt.show()"
      ],
      "metadata": {
        "id": "gQl7c9m_V_jV"
      },
      "execution_count": null,
      "outputs": []
    }
  ]
}