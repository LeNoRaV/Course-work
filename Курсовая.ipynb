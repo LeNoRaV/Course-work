{
  "nbformat": 4,
  "nbformat_minor": 0,
  "metadata": {
    "colab": {
      "provenance": [],
      "authorship_tag": "ABX9TyPRXrKWGIy25AUzi/WxJ/G7"
    },
    "kernelspec": {
      "name": "python3",
      "display_name": "Python 3"
    },
    "language_info": {
      "name": "python"
    }
  },
  "cells": [
    {
      "cell_type": "code",
      "source": [
        "import pandas as pd\n",
        "import csv\n",
        "import numpy as np\n",
        "from matplotlib import pyplot as plt\n",
        "import seaborn as sns\n",
        "import re\n",
        "from collections import Counter\n",
        "import nltk\n",
        "from nltk.corpus import stopwords\n",
        "from nltk import ngrams\n",
        "from nltk.stem import WordNetLemmatizer"
      ],
      "metadata": {
        "id": "mC4eYbNPdEUk"
      },
      "execution_count": 83,
      "outputs": []
    },
    {
      "cell_type": "code",
      "execution_count": 84,
      "metadata": {
        "colab": {
          "base_uri": "https://localhost:8080/",
          "height": 372
        },
        "id": "L-ZZO-VScaFf",
        "outputId": "98e8c0e0-6efb-4340-bf6c-e15ce685c841"
      },
      "outputs": [
        {
          "output_type": "stream",
          "name": "stderr",
          "text": [
            "<ipython-input-84-47bcf7cd181f>:1: DtypeWarning: Columns (5) have mixed types. Specify dtype option on import or set low_memory=False.\n",
            "  data = pd.read_csv('publ.csv')\n"
          ]
        },
        {
          "output_type": "execute_result",
          "data": {
            "text/plain": [
              "       publ_id                                          publ_name  year  \\\n",
              "84937  1052922  Electrodynamic control for spacecraft attitude...  2014   \n",
              "5455      5471  Нестандартное оборудование для расфасовки жидк...  2009   \n",
              "26763    27265  Stochastic Dissipativity with Risk-Sensitive S...  2009   \n",
              "\n",
              "                                             doi  \\\n",
              "84937  https://doi.org/10.1134/s001095251406001x   \n",
              "5455                                         NaN   \n",
              "26763                                        NaN   \n",
              "\n",
              "                                              annotation  geo_name  \\\n",
              "84937                                                NaN       NaN   \n",
              "5455   В докладе рассматривается проблема создания от...    Москва   \n",
              "26763                                                NaN  Кумамото   \n",
              "\n",
              "       collect_name  collect_type               author_affs  \\\n",
              "84937           NaN           NaN  St Petersburg University   \n",
              "5455            NaN           NaN                       NaN   \n",
              "26763           NaN           NaN                       NaN   \n",
              "\n",
              "                author_ids  \n",
              "84937     1012698; 1012697  \n",
              "5455   357; 922; 955; 1074  \n",
              "26763            890; 1443  "
            ],
            "text/html": [
              "\n",
              "  <div id=\"df-2a857ff4-57fa-4945-8ae4-4f20be920013\" class=\"colab-df-container\">\n",
              "    <div>\n",
              "<style scoped>\n",
              "    .dataframe tbody tr th:only-of-type {\n",
              "        vertical-align: middle;\n",
              "    }\n",
              "\n",
              "    .dataframe tbody tr th {\n",
              "        vertical-align: top;\n",
              "    }\n",
              "\n",
              "    .dataframe thead th {\n",
              "        text-align: right;\n",
              "    }\n",
              "</style>\n",
              "<table border=\"1\" class=\"dataframe\">\n",
              "  <thead>\n",
              "    <tr style=\"text-align: right;\">\n",
              "      <th></th>\n",
              "      <th>publ_id</th>\n",
              "      <th>publ_name</th>\n",
              "      <th>year</th>\n",
              "      <th>doi</th>\n",
              "      <th>annotation</th>\n",
              "      <th>geo_name</th>\n",
              "      <th>collect_name</th>\n",
              "      <th>collect_type</th>\n",
              "      <th>author_affs</th>\n",
              "      <th>author_ids</th>\n",
              "    </tr>\n",
              "  </thead>\n",
              "  <tbody>\n",
              "    <tr>\n",
              "      <th>84937</th>\n",
              "      <td>1052922</td>\n",
              "      <td>Electrodynamic control for spacecraft attitude...</td>\n",
              "      <td>2014</td>\n",
              "      <td>https://doi.org/10.1134/s001095251406001x</td>\n",
              "      <td>NaN</td>\n",
              "      <td>NaN</td>\n",
              "      <td>NaN</td>\n",
              "      <td>NaN</td>\n",
              "      <td>St Petersburg University</td>\n",
              "      <td>1012698; 1012697</td>\n",
              "    </tr>\n",
              "    <tr>\n",
              "      <th>5455</th>\n",
              "      <td>5471</td>\n",
              "      <td>Нестандартное оборудование для расфасовки жидк...</td>\n",
              "      <td>2009</td>\n",
              "      <td>NaN</td>\n",
              "      <td>В докладе рассматривается проблема создания от...</td>\n",
              "      <td>Москва</td>\n",
              "      <td>NaN</td>\n",
              "      <td>NaN</td>\n",
              "      <td>NaN</td>\n",
              "      <td>357; 922; 955; 1074</td>\n",
              "    </tr>\n",
              "    <tr>\n",
              "      <th>26763</th>\n",
              "      <td>27265</td>\n",
              "      <td>Stochastic Dissipativity with Risk-Sensitive S...</td>\n",
              "      <td>2009</td>\n",
              "      <td>NaN</td>\n",
              "      <td>NaN</td>\n",
              "      <td>Кумамото</td>\n",
              "      <td>NaN</td>\n",
              "      <td>NaN</td>\n",
              "      <td>NaN</td>\n",
              "      <td>890; 1443</td>\n",
              "    </tr>\n",
              "  </tbody>\n",
              "</table>\n",
              "</div>\n",
              "    <div class=\"colab-df-buttons\">\n",
              "\n",
              "  <div class=\"colab-df-container\">\n",
              "    <button class=\"colab-df-convert\" onclick=\"convertToInteractive('df-2a857ff4-57fa-4945-8ae4-4f20be920013')\"\n",
              "            title=\"Convert this dataframe to an interactive table.\"\n",
              "            style=\"display:none;\">\n",
              "\n",
              "  <svg xmlns=\"http://www.w3.org/2000/svg\" height=\"24px\" viewBox=\"0 -960 960 960\">\n",
              "    <path d=\"M120-120v-720h720v720H120Zm60-500h600v-160H180v160Zm220 220h160v-160H400v160Zm0 220h160v-160H400v160ZM180-400h160v-160H180v160Zm440 0h160v-160H620v160ZM180-180h160v-160H180v160Zm440 0h160v-160H620v160Z\"/>\n",
              "  </svg>\n",
              "    </button>\n",
              "\n",
              "  <style>\n",
              "    .colab-df-container {\n",
              "      display:flex;\n",
              "      gap: 12px;\n",
              "    }\n",
              "\n",
              "    .colab-df-convert {\n",
              "      background-color: #E8F0FE;\n",
              "      border: none;\n",
              "      border-radius: 50%;\n",
              "      cursor: pointer;\n",
              "      display: none;\n",
              "      fill: #1967D2;\n",
              "      height: 32px;\n",
              "      padding: 0 0 0 0;\n",
              "      width: 32px;\n",
              "    }\n",
              "\n",
              "    .colab-df-convert:hover {\n",
              "      background-color: #E2EBFA;\n",
              "      box-shadow: 0px 1px 2px rgba(60, 64, 67, 0.3), 0px 1px 3px 1px rgba(60, 64, 67, 0.15);\n",
              "      fill: #174EA6;\n",
              "    }\n",
              "\n",
              "    .colab-df-buttons div {\n",
              "      margin-bottom: 4px;\n",
              "    }\n",
              "\n",
              "    [theme=dark] .colab-df-convert {\n",
              "      background-color: #3B4455;\n",
              "      fill: #D2E3FC;\n",
              "    }\n",
              "\n",
              "    [theme=dark] .colab-df-convert:hover {\n",
              "      background-color: #434B5C;\n",
              "      box-shadow: 0px 1px 3px 1px rgba(0, 0, 0, 0.15);\n",
              "      filter: drop-shadow(0px 1px 2px rgba(0, 0, 0, 0.3));\n",
              "      fill: #FFFFFF;\n",
              "    }\n",
              "  </style>\n",
              "\n",
              "    <script>\n",
              "      const buttonEl =\n",
              "        document.querySelector('#df-2a857ff4-57fa-4945-8ae4-4f20be920013 button.colab-df-convert');\n",
              "      buttonEl.style.display =\n",
              "        google.colab.kernel.accessAllowed ? 'block' : 'none';\n",
              "\n",
              "      async function convertToInteractive(key) {\n",
              "        const element = document.querySelector('#df-2a857ff4-57fa-4945-8ae4-4f20be920013');\n",
              "        const dataTable =\n",
              "          await google.colab.kernel.invokeFunction('convertToInteractive',\n",
              "                                                    [key], {});\n",
              "        if (!dataTable) return;\n",
              "\n",
              "        const docLinkHtml = 'Like what you see? Visit the ' +\n",
              "          '<a target=\"_blank\" href=https://colab.research.google.com/notebooks/data_table.ipynb>data table notebook</a>'\n",
              "          + ' to learn more about interactive tables.';\n",
              "        element.innerHTML = '';\n",
              "        dataTable['output_type'] = 'display_data';\n",
              "        await google.colab.output.renderOutput(dataTable, element);\n",
              "        const docLink = document.createElement('div');\n",
              "        docLink.innerHTML = docLinkHtml;\n",
              "        element.appendChild(docLink);\n",
              "      }\n",
              "    </script>\n",
              "  </div>\n",
              "\n",
              "\n",
              "<div id=\"df-be49d142-1012-478b-87ee-26e85a903aa8\">\n",
              "  <button class=\"colab-df-quickchart\" onclick=\"quickchart('df-be49d142-1012-478b-87ee-26e85a903aa8')\"\n",
              "            title=\"Suggest charts\"\n",
              "            style=\"display:none;\">\n",
              "\n",
              "<svg xmlns=\"http://www.w3.org/2000/svg\" height=\"24px\"viewBox=\"0 0 24 24\"\n",
              "     width=\"24px\">\n",
              "    <g>\n",
              "        <path d=\"M19 3H5c-1.1 0-2 .9-2 2v14c0 1.1.9 2 2 2h14c1.1 0 2-.9 2-2V5c0-1.1-.9-2-2-2zM9 17H7v-7h2v7zm4 0h-2V7h2v10zm4 0h-2v-4h2v4z\"/>\n",
              "    </g>\n",
              "</svg>\n",
              "  </button>\n",
              "\n",
              "<style>\n",
              "  .colab-df-quickchart {\n",
              "      --bg-color: #E8F0FE;\n",
              "      --fill-color: #1967D2;\n",
              "      --hover-bg-color: #E2EBFA;\n",
              "      --hover-fill-color: #174EA6;\n",
              "      --disabled-fill-color: #AAA;\n",
              "      --disabled-bg-color: #DDD;\n",
              "  }\n",
              "\n",
              "  [theme=dark] .colab-df-quickchart {\n",
              "      --bg-color: #3B4455;\n",
              "      --fill-color: #D2E3FC;\n",
              "      --hover-bg-color: #434B5C;\n",
              "      --hover-fill-color: #FFFFFF;\n",
              "      --disabled-bg-color: #3B4455;\n",
              "      --disabled-fill-color: #666;\n",
              "  }\n",
              "\n",
              "  .colab-df-quickchart {\n",
              "    background-color: var(--bg-color);\n",
              "    border: none;\n",
              "    border-radius: 50%;\n",
              "    cursor: pointer;\n",
              "    display: none;\n",
              "    fill: var(--fill-color);\n",
              "    height: 32px;\n",
              "    padding: 0;\n",
              "    width: 32px;\n",
              "  }\n",
              "\n",
              "  .colab-df-quickchart:hover {\n",
              "    background-color: var(--hover-bg-color);\n",
              "    box-shadow: 0 1px 2px rgba(60, 64, 67, 0.3), 0 1px 3px 1px rgba(60, 64, 67, 0.15);\n",
              "    fill: var(--button-hover-fill-color);\n",
              "  }\n",
              "\n",
              "  .colab-df-quickchart-complete:disabled,\n",
              "  .colab-df-quickchart-complete:disabled:hover {\n",
              "    background-color: var(--disabled-bg-color);\n",
              "    fill: var(--disabled-fill-color);\n",
              "    box-shadow: none;\n",
              "  }\n",
              "\n",
              "  .colab-df-spinner {\n",
              "    border: 2px solid var(--fill-color);\n",
              "    border-color: transparent;\n",
              "    border-bottom-color: var(--fill-color);\n",
              "    animation:\n",
              "      spin 1s steps(1) infinite;\n",
              "  }\n",
              "\n",
              "  @keyframes spin {\n",
              "    0% {\n",
              "      border-color: transparent;\n",
              "      border-bottom-color: var(--fill-color);\n",
              "      border-left-color: var(--fill-color);\n",
              "    }\n",
              "    20% {\n",
              "      border-color: transparent;\n",
              "      border-left-color: var(--fill-color);\n",
              "      border-top-color: var(--fill-color);\n",
              "    }\n",
              "    30% {\n",
              "      border-color: transparent;\n",
              "      border-left-color: var(--fill-color);\n",
              "      border-top-color: var(--fill-color);\n",
              "      border-right-color: var(--fill-color);\n",
              "    }\n",
              "    40% {\n",
              "      border-color: transparent;\n",
              "      border-right-color: var(--fill-color);\n",
              "      border-top-color: var(--fill-color);\n",
              "    }\n",
              "    60% {\n",
              "      border-color: transparent;\n",
              "      border-right-color: var(--fill-color);\n",
              "    }\n",
              "    80% {\n",
              "      border-color: transparent;\n",
              "      border-right-color: var(--fill-color);\n",
              "      border-bottom-color: var(--fill-color);\n",
              "    }\n",
              "    90% {\n",
              "      border-color: transparent;\n",
              "      border-bottom-color: var(--fill-color);\n",
              "    }\n",
              "  }\n",
              "</style>\n",
              "\n",
              "  <script>\n",
              "    async function quickchart(key) {\n",
              "      const quickchartButtonEl =\n",
              "        document.querySelector('#' + key + ' button');\n",
              "      quickchartButtonEl.disabled = true;  // To prevent multiple clicks.\n",
              "      quickchartButtonEl.classList.add('colab-df-spinner');\n",
              "      try {\n",
              "        const charts = await google.colab.kernel.invokeFunction(\n",
              "            'suggestCharts', [key], {});\n",
              "      } catch (error) {\n",
              "        console.error('Error during call to suggestCharts:', error);\n",
              "      }\n",
              "      quickchartButtonEl.classList.remove('colab-df-spinner');\n",
              "      quickchartButtonEl.classList.add('colab-df-quickchart-complete');\n",
              "    }\n",
              "    (() => {\n",
              "      let quickchartButtonEl =\n",
              "        document.querySelector('#df-be49d142-1012-478b-87ee-26e85a903aa8 button');\n",
              "      quickchartButtonEl.style.display =\n",
              "        google.colab.kernel.accessAllowed ? 'block' : 'none';\n",
              "    })();\n",
              "  </script>\n",
              "</div>\n",
              "    </div>\n",
              "  </div>\n"
            ],
            "application/vnd.google.colaboratory.intrinsic+json": {
              "type": "dataframe",
              "summary": "{\n  \"name\": \"data\",\n  \"rows\": 3,\n  \"fields\": [\n    {\n      \"column\": \"publ_id\",\n      \"properties\": {\n        \"dtype\": \"number\",\n        \"std\": 598553,\n        \"min\": 5471,\n        \"max\": 1052922,\n        \"num_unique_values\": 3,\n        \"samples\": [\n          1052922,\n          5471,\n          27265\n        ],\n        \"semantic_type\": \"\",\n        \"description\": \"\"\n      }\n    },\n    {\n      \"column\": \"publ_name\",\n      \"properties\": {\n        \"dtype\": \"string\",\n        \"num_unique_values\": 3,\n        \"samples\": [\n          \"Electrodynamic control for spacecraft attitude stability in the geomagnetic field\",\n          \"\\u041d\\u0435\\u0441\\u0442\\u0430\\u043d\\u0434\\u0430\\u0440\\u0442\\u043d\\u043e\\u0435 \\u043e\\u0431\\u043e\\u0440\\u0443\\u0434\\u043e\\u0432\\u0430\\u043d\\u0438\\u0435 \\u0434\\u043b\\u044f \\u0440\\u0430\\u0441\\u0444\\u0430\\u0441\\u043e\\u0432\\u043a\\u0438 \\u0436\\u0438\\u0434\\u043a\\u0438\\u0445 \\u043f\\u0440\\u043e\\u0434\\u0443\\u043a\\u0442\\u043e\\u0432 \\u0432 \\u0443\\u0441\\u043b\\u043e\\u0432\\u0438\\u044f\\u0445 \\u043c\\u0430\\u043b\\u044b\\u0445 \\u043f\\u0440\\u043e\\u0438\\u0437\\u0432\\u043e\\u0434\\u0441\\u0442\\u0432\",\n          \"Stochastic Dissipativity with Risk-Sensitive Storage Function and Related Control Problems\"\n        ],\n        \"semantic_type\": \"\",\n        \"description\": \"\"\n      }\n    },\n    {\n      \"column\": \"year\",\n      \"properties\": {\n        \"dtype\": \"number\",\n        \"std\": 2,\n        \"min\": 2009,\n        \"max\": 2014,\n        \"num_unique_values\": 2,\n        \"samples\": [\n          2009,\n          2014\n        ],\n        \"semantic_type\": \"\",\n        \"description\": \"\"\n      }\n    },\n    {\n      \"column\": \"doi\",\n      \"properties\": {\n        \"dtype\": \"category\",\n        \"num_unique_values\": 1,\n        \"samples\": [\n          \"https://doi.org/10.1134/s001095251406001x\"\n        ],\n        \"semantic_type\": \"\",\n        \"description\": \"\"\n      }\n    },\n    {\n      \"column\": \"annotation\",\n      \"properties\": {\n        \"dtype\": \"category\",\n        \"num_unique_values\": 1,\n        \"samples\": [\n          \"\\u0412 \\u0434\\u043e\\u043a\\u043b\\u0430\\u0434\\u0435 \\u0440\\u0430\\u0441\\u0441\\u043c\\u0430\\u0442\\u0440\\u0438\\u0432\\u0430\\u0435\\u0442\\u0441\\u044f \\u043f\\u0440\\u043e\\u0431\\u043b\\u0435\\u043c\\u0430 \\u0441\\u043e\\u0437\\u0434\\u0430\\u043d\\u0438\\u044f \\u043e\\u0442\\u0435\\u0447\\u0435\\u0441\\u0442\\u0432\\u0435\\u043d\\u043d\\u043e\\u0433\\u043e \\u043a\\u043e\\u043d\\u043a\\u0443\\u0440\\u0435\\u043d\\u0442\\u043e\\u0441\\u043f\\u043e\\u0441\\u043e\\u0431\\u043d\\u043e\\u0433\\u043e \\u0434\\u043e\\u0437\\u0438\\u0440\\u043e\\u0432\\u043e\\u0447\\u043d\\u043e\\u0433\\u043e \\u043e\\u0431\\u043e\\u0440\\u0443\\u0434\\u043e\\u0432\\u0430\\u043d\\u0438\\u044f \\u0434\\u043b\\u044f \\u0440\\u0435\\u0448\\u0435\\u043d\\u0438\\u044f \\u0437\\u0430\\u0434\\u0430\\u0447 \\u0430\\u0432\\u0442\\u043e\\u043c\\u0430\\u0442\\u0438\\u0437\\u0430\\u0446\\u0438\\u0438 \\u043f\\u0440\\u043e\\u0446\\u0435\\u0441\\u0441\\u043e\\u0432 \\u0434\\u043e\\u0437\\u0438\\u0440\\u043e\\u0432\\u0430\\u043d\\u0438\\u044f \\u0436\\u0438\\u0434\\u043a\\u043e\\u0441\\u0442\\u0435\\u0439 \\u0432 \\u0443\\u0441\\u043b\\u043e\\u0432\\u0438\\u044f\\u0445 \\u043c\\u0430\\u043b\\u044b\\u0445 \\u043f\\u0440\\u043e\\u0438\\u0437\\u0432\\u043e\\u0434\\u0441\\u0442\\u0432 (\\u0432 \\u0447\\u0430\\u0441\\u0442\\u043d\\u043e\\u0441\\u0442\\u0438, \\u0443\\u043f\\u0430\\u043a\\u043e\\u0432\\u043e\\u0447\\u043d\\u043e\\u0439 \\u043e\\u0442\\u0440\\u0430\\u0441\\u043b\\u0438).\"\n        ],\n        \"semantic_type\": \"\",\n        \"description\": \"\"\n      }\n    },\n    {\n      \"column\": \"geo_name\",\n      \"properties\": {\n        \"dtype\": \"string\",\n        \"num_unique_values\": 2,\n        \"samples\": [\n          \"\\u041a\\u0443\\u043c\\u0430\\u043c\\u043e\\u0442\\u043e\"\n        ],\n        \"semantic_type\": \"\",\n        \"description\": \"\"\n      }\n    },\n    {\n      \"column\": \"collect_name\",\n      \"properties\": {\n        \"dtype\": \"number\",\n        \"std\": null,\n        \"min\": null,\n        \"max\": null,\n        \"num_unique_values\": 0,\n        \"samples\": [],\n        \"semantic_type\": \"\",\n        \"description\": \"\"\n      }\n    },\n    {\n      \"column\": \"collect_type\",\n      \"properties\": {\n        \"dtype\": \"number\",\n        \"std\": null,\n        \"min\": null,\n        \"max\": null,\n        \"num_unique_values\": 0,\n        \"samples\": [],\n        \"semantic_type\": \"\",\n        \"description\": \"\"\n      }\n    },\n    {\n      \"column\": \"author_affs\",\n      \"properties\": {\n        \"dtype\": \"category\",\n        \"num_unique_values\": 1,\n        \"samples\": [],\n        \"semantic_type\": \"\",\n        \"description\": \"\"\n      }\n    },\n    {\n      \"column\": \"author_ids\",\n      \"properties\": {\n        \"dtype\": \"string\",\n        \"num_unique_values\": 3,\n        \"samples\": [],\n        \"semantic_type\": \"\",\n        \"description\": \"\"\n      }\n    }\n  ]\n}"
            }
          },
          "metadata": {},
          "execution_count": 84
        }
      ],
      "source": [
        "data = pd.read_csv('publ.csv')\n",
        "data.sample(3)"
      ]
    },
    {
      "cell_type": "markdown",
      "source": [
        "**Описание признаков:**\n",
        "\n",
        "publ_id\t- Уникальный идентификатор публикации.\n",
        "\n",
        "year -\tГод публикации.\n",
        "\n",
        "doi\t- Digital Object Identifier Уникальный идентификатор для электронных документов.\n",
        "\n",
        "annotation -\tАннотация или краткое содержание публикации. Это текстовое поле может содержать основные идеи или выводы работы.\n",
        "\n",
        "geo_name -\tГеографическое название, связанное с публикацией.\n",
        "\n",
        "collect_name -\tНазвание коллекции, к которой принадлежит публикация.\n",
        "\n",
        "collect_type -\tТип коллекции, например, журнал, конференция, книга и т.д. Это помогает классифицировать тип публикации.\n",
        "\n",
        "author_affs\t- Аффилиации авторов.\n",
        "\n",
        "author_ids - Идентификаторы авторов."
      ],
      "metadata": {
        "id": "vri48eObfRRN"
      }
    },
    {
      "cell_type": "markdown",
      "source": [
        "Часть признаков не нужны в исследовании, поэтому удалим их."
      ],
      "metadata": {
        "id": "--BClXLZgKo8"
      }
    },
    {
      "cell_type": "code",
      "source": [
        "data = data.drop(['doi','collect_name','author_affs','author_ids'], axis=1)"
      ],
      "metadata": {
        "id": "YtIC_qiBgTHZ"
      },
      "execution_count": 85,
      "outputs": []
    },
    {
      "cell_type": "markdown",
      "source": [
        "Посмотрим содержание пустых строк в датасете"
      ],
      "metadata": {
        "id": "2NUwaSFhhaSQ"
      }
    },
    {
      "cell_type": "code",
      "source": [
        "plt.figure(figsize=(7,5))\n",
        "sns.heatmap(data.isna().transpose())"
      ],
      "metadata": {
        "colab": {
          "base_uri": "https://localhost:8080/",
          "height": 499
        },
        "id": "UoePfZC6hhKy",
        "outputId": "7b484469-047c-47bd-9071-a6f3e973c26c"
      },
      "execution_count": 86,
      "outputs": [
        {
          "output_type": "execute_result",
          "data": {
            "text/plain": [
              "<Axes: >"
            ]
          },
          "metadata": {},
          "execution_count": 86
        },
        {
          "output_type": "display_data",
          "data": {
            "text/plain": [
              "<Figure size 700x500 with 2 Axes>"
            ],
            "image/png": "[encoded data removed]"
          },
          "metadata": {}
        }
      ]
    },
    {
      "cell_type": "markdown",
      "source": [
        "Видим, что много пустых значений в geo_name и collect_type, поэтому также удалим эти столбцы. Дополнительно удалим строки не содержашие аннотации и название публикации."
      ],
      "metadata": {
        "id": "4gwGE-w8h8y3"
      }
    },
    {
      "cell_type": "code",
      "source": [
        "data = data.drop(['geo_name','collect_type'], axis=1)"
      ],
      "metadata": {
        "id": "KzdaiyEIiTNv"
      },
      "execution_count": 87,
      "outputs": []
    },
    {
      "cell_type": "code",
      "source": [
        "data = data.dropna()"
      ],
      "metadata": {
        "id": "w8Oa8Ye_iaHT"
      },
      "execution_count": 88,
      "outputs": []
    },
    {
      "cell_type": "markdown",
      "source": [
        "Разделим датасет на два: статьи на русском и английском языках. Для этого создадим дополнительный признак, содержащий информацию о языке."
      ],
      "metadata": {
        "id": "aIvQRFrri82E"
      }
    },
    {
      "cell_type": "code",
      "source": [
        "def is_russian(text):\n",
        "    return bool(re.search(r'[а-яА-Я]', text))"
      ],
      "metadata": {
        "id": "j23_3Kjjjxd5"
      },
      "execution_count": 89,
      "outputs": []
    },
    {
      "cell_type": "code",
      "source": [
        "data['language'] = data['publ_name'].apply(lambda x: 'ru' if is_russian(x) else 'en')\n",
        "\n",
        "data_ru = data[data['language'] == 'ru']\n",
        "data_en = data[data['language'] == 'en']"
      ],
      "metadata": {
        "id": "cTqFzxKrjDfc"
      },
      "execution_count": 90,
      "outputs": []
    },
    {
      "cell_type": "code",
      "source": [
        "data_ru.shape"
      ],
      "metadata": {
        "colab": {
          "base_uri": "https://localhost:8080/"
        },
        "id": "8jcn9J4Gj_wk",
        "outputId": "e734726c-d59d-433f-9bc4-80287e8b80c9"
      },
      "execution_count": 91,
      "outputs": [
        {
          "output_type": "execute_result",
          "data": {
            "text/plain": [
              "(23483, 5)"
            ]
          },
          "metadata": {},
          "execution_count": 91
        }
      ]
    },
    {
      "cell_type": "code",
      "source": [
        "data_en.shape"
      ],
      "metadata": {
        "colab": {
          "base_uri": "https://localhost:8080/"
        },
        "id": "BxXwiEjbkRoB",
        "outputId": "ddeefa36-065c-4b0c-8e1b-664d6a00b7cd"
      },
      "execution_count": 92,
      "outputs": [
        {
          "output_type": "execute_result",
          "data": {
            "text/plain": [
              "(42410, 5)"
            ]
          },
          "metadata": {},
          "execution_count": 92
        }
      ]
    },
    {
      "cell_type": "code",
      "source": [
        "data_ru # название и аннотация на разных языках..."
      ],
      "metadata": {
        "colab": {
          "base_uri": "https://localhost:8080/",
          "height": 423
        },
        "id": "UiZy-9HnrtMQ",
        "outputId": "68fdbaa0-a335-4e68-aca7-39cbf7abd425"
      },
      "execution_count": 93,
      "outputs": [
        {
          "output_type": "execute_result",
          "data": {
            "text/plain": [
              "       publ_id                                          publ_name  year  \\\n",
              "0            1  Методы и средства волнового фитоуправления в б...  2005   \n",
              "1            2  Метод динамической компенсации в задаче оценив...  2005   \n",
              "2            3  Управление электромеханическими системами в ус...  2005   \n",
              "4            5  Задача стабилизации линейных систем с сигмоида...  2005   \n",
              "5            6          Скользящий электропривод постоянного тока  2005   \n",
              "...        ...                                                ...   ...   \n",
              "91632  1059617  Особенности движения шагающей машины с поворот...  2013   \n",
              "91633  1059618  Экспериментальные исследования знакопеременног...  2011   \n",
              "91695  1059680  СинтеЗ классификатороВ дифференциальноЙ дИагно...  2011   \n",
              "91701  1059686            Адаптивная система классификаторов МГУА  2014   \n",
              "91755  1059740  Индустрия 4.0: возможности и риски в контексте...  2020   \n",
              "\n",
              "                                              annotation language  \n",
              "0      Рассматриваются методы и средства волнового фи...       ru  \n",
              "1      В докладе рассматривается задача стабилизации ...       ru  \n",
              "2      Рассматривается задача управления угловым поло...       ru  \n",
              "4      Предложена декомпозиционная процедура синтеза ...       ru  \n",
              "5      В работе рассмотрена задача позиционирования д...       ru  \n",
              "...                                                  ...      ...  \n",
              "91632  Kinematics mathematical model of walking machi...       ru  \n",
              "91633  Such operating mode of deep-well pump installa...       ru  \n",
              "91695  In the paper classifiers for light form of coa...       ru  \n",
              "91701  It is shown that the self-organization models,...       ru  \n",
              "91755  Представлен обзор проблематики обеспечения инф...       ru  \n",
              "\n",
              "[23483 rows x 5 columns]"
            ],
            "text/html": [
              "\n",
              "  <div id=\"df-062d6c7e-64e8-482a-9284-f6fb1b89d3f2\" class=\"colab-df-container\">\n",
              "    <div>\n",
              "<style scoped>\n",
              "    .dataframe tbody tr th:only-of-type {\n",
              "        vertical-align: middle;\n",
              "    }\n",
              "\n",
              "    .dataframe tbody tr th {\n",
              "        vertical-align: top;\n",
              "    }\n",
              "\n",
              "    .dataframe thead th {\n",
              "        text-align: right;\n",
              "    }\n",
              "</style>\n",
              "<table border=\"1\" class=\"dataframe\">\n",
              "  <thead>\n",
              "    <tr style=\"text-align: right;\">\n",
              "      <th></th>\n",
              "      <th>publ_id</th>\n",
              "      <th>publ_name</th>\n",
              "      <th>year</th>\n",
              "      <th>annotation</th>\n",
              "      <th>language</th>\n",
              "    </tr>\n",
              "  </thead>\n",
              "  <tbody>\n",
              "    <tr>\n",
              "      <th>0</th>\n",
              "      <td>1</td>\n",
              "      <td>Методы и средства волнового фитоуправления в б...</td>\n",
              "      <td>2005</td>\n",
              "      <td>Рассматриваются методы и средства волнового фи...</td>\n",
              "      <td>ru</td>\n",
              "    </tr>\n",
              "    <tr>\n",
              "      <th>1</th>\n",
              "      <td>2</td>\n",
              "      <td>Метод динамической компенсации в задаче оценив...</td>\n",
              "      <td>2005</td>\n",
              "      <td>В докладе рассматривается задача стабилизации ...</td>\n",
              "      <td>ru</td>\n",
              "    </tr>\n",
              "    <tr>\n",
              "      <th>2</th>\n",
              "      <td>3</td>\n",
              "      <td>Управление электромеханическими системами в ус...</td>\n",
              "      <td>2005</td>\n",
              "      <td>Рассматривается задача управления угловым поло...</td>\n",
              "      <td>ru</td>\n",
              "    </tr>\n",
              "    <tr>\n",
              "      <th>4</th>\n",
              "      <td>5</td>\n",
              "      <td>Задача стабилизации линейных систем с сигмоида...</td>\n",
              "      <td>2005</td>\n",
              "      <td>Предложена декомпозиционная процедура синтеза ...</td>\n",
              "      <td>ru</td>\n",
              "    </tr>\n",
              "    <tr>\n",
              "      <th>5</th>\n",
              "      <td>6</td>\n",
              "      <td>Скользящий электропривод постоянного тока</td>\n",
              "      <td>2005</td>\n",
              "      <td>В работе рассмотрена задача позиционирования д...</td>\n",
              "      <td>ru</td>\n",
              "    </tr>\n",
              "    <tr>\n",
              "      <th>...</th>\n",
              "      <td>...</td>\n",
              "      <td>...</td>\n",
              "      <td>...</td>\n",
              "      <td>...</td>\n",
              "      <td>...</td>\n",
              "    </tr>\n",
              "    <tr>\n",
              "      <th>91632</th>\n",
              "      <td>1059617</td>\n",
              "      <td>Особенности движения шагающей машины с поворот...</td>\n",
              "      <td>2013</td>\n",
              "      <td>Kinematics mathematical model of walking machi...</td>\n",
              "      <td>ru</td>\n",
              "    </tr>\n",
              "    <tr>\n",
              "      <th>91633</th>\n",
              "      <td>1059618</td>\n",
              "      <td>Экспериментальные исследования знакопеременног...</td>\n",
              "      <td>2011</td>\n",
              "      <td>Such operating mode of deep-well pump installa...</td>\n",
              "      <td>ru</td>\n",
              "    </tr>\n",
              "    <tr>\n",
              "      <th>91695</th>\n",
              "      <td>1059680</td>\n",
              "      <td>СинтеЗ классификатороВ дифференциальноЙ дИагно...</td>\n",
              "      <td>2011</td>\n",
              "      <td>In the paper classifiers for light form of coa...</td>\n",
              "      <td>ru</td>\n",
              "    </tr>\n",
              "    <tr>\n",
              "      <th>91701</th>\n",
              "      <td>1059686</td>\n",
              "      <td>Адаптивная система классификаторов МГУА</td>\n",
              "      <td>2014</td>\n",
              "      <td>It is shown that the self-organization models,...</td>\n",
              "      <td>ru</td>\n",
              "    </tr>\n",
              "    <tr>\n",
              "      <th>91755</th>\n",
              "      <td>1059740</td>\n",
              "      <td>Индустрия 4.0: возможности и риски в контексте...</td>\n",
              "      <td>2020</td>\n",
              "      <td>Представлен обзор проблематики обеспечения инф...</td>\n",
              "      <td>ru</td>\n",
              "    </tr>\n",
              "  </tbody>\n",
              "</table>\n",
              "<p>23483 rows × 5 columns</p>\n",
              "</div>\n",
              "    <div class=\"colab-df-buttons\">\n",
              "\n",
              "  <div class=\"colab-df-container\">\n",
              "    <button class=\"colab-df-convert\" onclick=\"convertToInteractive('df-062d6c7e-64e8-482a-9284-f6fb1b89d3f2')\"\n",
              "            title=\"Convert this dataframe to an interactive table.\"\n",
              "            style=\"display:none;\">\n",
              "\n",
              "  <svg xmlns=\"http://www.w3.org/2000/svg\" height=\"24px\" viewBox=\"0 -960 960 960\">\n",
              "    <path d=\"M120-120v-720h720v720H120Zm60-500h600v-160H180v160Zm220 220h160v-160H400v160Zm0 220h160v-160H400v160ZM180-400h160v-160H180v160Zm440 0h160v-160H620v160ZM180-180h160v-160H180v160Zm440 0h160v-160H620v160Z\"/>\n",
              "  </svg>\n",
              "    </button>\n",
              "\n",
              "  <style>\n",
              "    .colab-df-container {\n",
              "      display:flex;\n",
              "      gap: 12px;\n",
              "    }\n",
              "\n",
              "    .colab-df-convert {\n",
              "      background-color: #E8F0FE;\n",
              "      border: none;\n",
              "      border-radius: 50%;\n",
              "      cursor: pointer;\n",
              "      display: none;\n",
              "      fill: #1967D2;\n",
              "      height: 32px;\n",
              "      padding: 0 0 0 0;\n",
              "      width: 32px;\n",
              "    }\n",
              "\n",
              "    .colab-df-convert:hover {\n",
              "      background-color: #E2EBFA;\n",
              "      box-shadow: 0px 1px 2px rgba(60, 64, 67, 0.3), 0px 1px 3px 1px rgba(60, 64, 67, 0.15);\n",
              "      fill: #174EA6;\n",
              "    }\n",
              "\n",
              "    .colab-df-buttons div {\n",
              "      margin-bottom: 4px;\n",
              "    }\n",
              "\n",
              "    [theme=dark] .colab-df-convert {\n",
              "      background-color: #3B4455;\n",
              "      fill: #D2E3FC;\n",
              "    }\n",
              "\n",
              "    [theme=dark] .colab-df-convert:hover {\n",
              "      background-color: #434B5C;\n",
              "      box-shadow: 0px 1px 3px 1px rgba(0, 0, 0, 0.15);\n",
              "      filter: drop-shadow(0px 1px 2px rgba(0, 0, 0, 0.3));\n",
              "      fill: #FFFFFF;\n",
              "    }\n",
              "  </style>\n",
              "\n",
              "    <script>\n",
              "      const buttonEl =\n",
              "        document.querySelector('#df-062d6c7e-64e8-482a-9284-f6fb1b89d3f2 button.colab-df-convert');\n",
              "      buttonEl.style.display =\n",
              "        google.colab.kernel.accessAllowed ? 'block' : 'none';\n",
              "\n",
              "      async function convertToInteractive(key) {\n",
              "        const element = document.querySelector('#df-062d6c7e-64e8-482a-9284-f6fb1b89d3f2');\n",
              "        const dataTable =\n",
              "          await google.colab.kernel.invokeFunction('convertToInteractive',\n",
              "                                                    [key], {});\n",
              "        if (!dataTable) return;\n",
              "\n",
              "        const docLinkHtml = 'Like what you see? Visit the ' +\n",
              "          '<a target=\"_blank\" href=https://colab.research.google.com/notebooks/data_table.ipynb>data table notebook</a>'\n",
              "          + ' to learn more about interactive tables.';\n",
              "        element.innerHTML = '';\n",
              "        dataTable['output_type'] = 'display_data';\n",
              "        await google.colab.output.renderOutput(dataTable, element);\n",
              "        const docLink = document.createElement('div');\n",
              "        docLink.innerHTML = docLinkHtml;\n",
              "        element.appendChild(docLink);\n",
              "      }\n",
              "    </script>\n",
              "  </div>\n",
              "\n",
              "\n",
              "<div id=\"df-9dc931f3-b05e-4690-942a-14b377d35506\">\n",
              "  <button class=\"colab-df-quickchart\" onclick=\"quickchart('df-9dc931f3-b05e-4690-942a-14b377d35506')\"\n",
              "            title=\"Suggest charts\"\n",
              "            style=\"display:none;\">\n",
              "\n",
              "<svg xmlns=\"http://www.w3.org/2000/svg\" height=\"24px\"viewBox=\"0 0 24 24\"\n",
              "     width=\"24px\">\n",
              "    <g>\n",
              "        <path d=\"M19 3H5c-1.1 0-2 .9-2 2v14c0 1.1.9 2 2 2h14c1.1 0 2-.9 2-2V5c0-1.1-.9-2-2-2zM9 17H7v-7h2v7zm4 0h-2V7h2v10zm4 0h-2v-4h2v4z\"/>\n",
              "    </g>\n",
              "</svg>\n",
              "  </button>\n",
              "\n",
              "<style>\n",
              "  .colab-df-quickchart {\n",
              "      --bg-color: #E8F0FE;\n",
              "      --fill-color: #1967D2;\n",
              "      --hover-bg-color: #E2EBFA;\n",
              "      --hover-fill-color: #174EA6;\n",
              "      --disabled-fill-color: #AAA;\n",
              "      --disabled-bg-color: #DDD;\n",
              "  }\n",
              "\n",
              "  [theme=dark] .colab-df-quickchart {\n",
              "      --bg-color: #3B4455;\n",
              "      --fill-color: #D2E3FC;\n",
              "      --hover-bg-color: #434B5C;\n",
              "      --hover-fill-color: #FFFFFF;\n",
              "      --disabled-bg-color: #3B4455;\n",
              "      --disabled-fill-color: #666;\n",
              "  }\n",
              "\n",
              "  .colab-df-quickchart {\n",
              "    background-color: var(--bg-color);\n",
              "    border: none;\n",
              "    border-radius: 50%;\n",
              "    cursor: pointer;\n",
              "    display: none;\n",
              "    fill: var(--fill-color);\n",
              "    height: 32px;\n",
              "    padding: 0;\n",
              "    width: 32px;\n",
              "  }\n",
              "\n",
              "  .colab-df-quickchart:hover {\n",
              "    background-color: var(--hover-bg-color);\n",
              "    box-shadow: 0 1px 2px rgba(60, 64, 67, 0.3), 0 1px 3px 1px rgba(60, 64, 67, 0.15);\n",
              "    fill: var(--button-hover-fill-color);\n",
              "  }\n",
              "\n",
              "  .colab-df-quickchart-complete:disabled,\n",
              "  .colab-df-quickchart-complete:disabled:hover {\n",
              "    background-color: var(--disabled-bg-color);\n",
              "    fill: var(--disabled-fill-color);\n",
              "    box-shadow: none;\n",
              "  }\n",
              "\n",
              "  .colab-df-spinner {\n",
              "    border: 2px solid var(--fill-color);\n",
              "    border-color: transparent;\n",
              "    border-bottom-color: var(--fill-color);\n",
              "    animation:\n",
              "      spin 1s steps(1) infinite;\n",
              "  }\n",
              "\n",
              "  @keyframes spin {\n",
              "    0% {\n",
              "      border-color: transparent;\n",
              "      border-bottom-color: var(--fill-color);\n",
              "      border-left-color: var(--fill-color);\n",
              "    }\n",
              "    20% {\n",
              "      border-color: transparent;\n",
              "      border-left-color: var(--fill-color);\n",
              "      border-top-color: var(--fill-color);\n",
              "    }\n",
              "    30% {\n",
              "      border-color: transparent;\n",
              "      border-left-color: var(--fill-color);\n",
              "      border-top-color: var(--fill-color);\n",
              "      border-right-color: var(--fill-color);\n",
              "    }\n",
              "    40% {\n",
              "      border-color: transparent;\n",
              "      border-right-color: var(--fill-color);\n",
              "      border-top-color: var(--fill-color);\n",
              "    }\n",
              "    60% {\n",
              "      border-color: transparent;\n",
              "      border-right-color: var(--fill-color);\n",
              "    }\n",
              "    80% {\n",
              "      border-color: transparent;\n",
              "      border-right-color: var(--fill-color);\n",
              "      border-bottom-color: var(--fill-color);\n",
              "    }\n",
              "    90% {\n",
              "      border-color: transparent;\n",
              "      border-bottom-color: var(--fill-color);\n",
              "    }\n",
              "  }\n",
              "</style>\n",
              "\n",
              "  <script>\n",
              "    async function quickchart(key) {\n",
              "      const quickchartButtonEl =\n",
              "        document.querySelector('#' + key + ' button');\n",
              "      quickchartButtonEl.disabled = true;  // To prevent multiple clicks.\n",
              "      quickchartButtonEl.classList.add('colab-df-spinner');\n",
              "      try {\n",
              "        const charts = await google.colab.kernel.invokeFunction(\n",
              "            'suggestCharts', [key], {});\n",
              "      } catch (error) {\n",
              "        console.error('Error during call to suggestCharts:', error);\n",
              "      }\n",
              "      quickchartButtonEl.classList.remove('colab-df-spinner');\n",
              "      quickchartButtonEl.classList.add('colab-df-quickchart-complete');\n",
              "    }\n",
              "    (() => {\n",
              "      let quickchartButtonEl =\n",
              "        document.querySelector('#df-9dc931f3-b05e-4690-942a-14b377d35506 button');\n",
              "      quickchartButtonEl.style.display =\n",
              "        google.colab.kernel.accessAllowed ? 'block' : 'none';\n",
              "    })();\n",
              "  </script>\n",
              "</div>\n",
              "    </div>\n",
              "  </div>\n"
            ],
            "application/vnd.google.colaboratory.intrinsic+json": {
              "type": "dataframe",
              "variable_name": "data_ru",
              "summary": "{\n  \"name\": \"data_ru\",\n  \"rows\": 23483,\n  \"fields\": [\n    {\n      \"column\": \"publ_id\",\n      \"properties\": {\n        \"dtype\": \"number\",\n        \"std\": 8060939,\n        \"min\": 1,\n        \"max\": 1234567890,\n        \"num_unique_values\": 23483,\n        \"samples\": [\n          1774,\n          9721,\n          1000747\n        ],\n        \"semantic_type\": \"\",\n        \"description\": \"\"\n      }\n    },\n    {\n      \"column\": \"publ_name\",\n      \"properties\": {\n        \"dtype\": \"string\",\n        \"num_unique_values\": 22790,\n        \"samples\": [\n          \"\\u041f\\u0435\\u0440\\u0441\\u043f\\u0435\\u043a\\u0442\\u0438\\u0432\\u044b \\u0438\\u0441\\u0441\\u043b\\u0435\\u0434\\u043e\\u0432\\u0430\\u043d\\u0438\\u044f \\u0432 \\u043e\\u0431\\u043b\\u0430\\u0441\\u0442\\u0438 \\u043f\\u043e\\u0432\\u044b\\u0448\\u0435\\u043d\\u0438\\u044f \\u044d\\u0444\\u0444\\u0435\\u043a\\u0442\\u0438\\u0432\\u043d\\u043e\\u0441\\u0442\\u0438 \\u0441\\u043e\\u0432\\u0435\\u0449\\u0430\\u043d\\u0438\\u0439\",\n          \"\\u041c\\u0435\\u0442\\u043e\\u0434\\u044b \\u043e\\u043f\\u0435\\u0440\\u0430\\u0442\\u0438\\u0432\\u043d\\u043e\\u0433\\u043e \\u043e\\u043f\\u0440\\u0435\\u0434\\u0435\\u043b\\u0435\\u043d\\u0438\\u044f \\u043d\\u0435 \\u0438\\u0437\\u043c\\u0435\\u0440\\u044f\\u0435\\u043c\\u044b\\u0445 \\u043f\\u043e\\u0442\\u043e\\u0447\\u043d\\u044b\\u043c\\u0438 \\u043f\\u0440\\u0438\\u0431\\u043e\\u0440\\u0430\\u043c\\u0438 \\u043a\\u0430\\u0447\\u0435\\u0441\\u0442\\u0432\\u0435\\u043d\\u043d\\u044b\\u0445 \\u043f\\u043e\\u043a\\u0430\\u0437\\u0430\\u0442\\u0435\\u043b\\u0435\\u0439 \\u0445\\u0438\\u043c\\u0438\\u043a\\u043e-\\u0442\\u0435\\u0445\\u043d\\u043e\\u043b\\u043e\\u0433\\u0438\\u0447\\u0435\\u0441\\u043a\\u0438\\u0445 \\u043f\\u0440\\u043e\\u0446\\u0435\\u0441\\u0441\\u043e\\u0432. \\u0410\\u0432\\u0442\\u043e\\u043c\\u0430\\u0442\\u0438\\u0437\\u0430\\u0446\\u0438\\u044f \\u0432 \\u043f\\u0440\\u043e\\u043c\\u044b\\u0448\\u043b\\u0435\\u043d\\u043d\\u043e\\u0441\\u0442\\u0438\",\n          \"\\u041c\\u0435\\u0442\\u043e\\u0434 \\u043e\\u0442\\u0440\\u0430\\u0436\\u0435\\u043d\\u0438\\u044f \\u0432 \\u043f\\u0440\\u043e\\u0433\\u0440\\u0430\\u043c\\u043c\\u0438\\u0440\\u043e\\u0432\\u0430\\u043d\\u0438\\u0438 \\u0442\\u0440\\u0443\\u0434\\u043d\\u043e\\u0434\\u0435\\u0442\\u0435\\u0440\\u043c\\u0438\\u043d\\u0438\\u0440\\u043e\\u0432\\u0430\\u043d\\u043d\\u044b\\u0445 \\u0437\\u0430\\u0434\\u0430\\u0447\"\n        ],\n        \"semantic_type\": \"\",\n        \"description\": \"\"\n      }\n    },\n    {\n      \"column\": \"year\",\n      \"properties\": {\n        \"dtype\": \"number\",\n        \"std\": 8,\n        \"min\": 1921,\n        \"max\": 2024,\n        \"num_unique_values\": 82,\n        \"samples\": [\n          1963,\n          2005,\n          1966\n        ],\n        \"semantic_type\": \"\",\n        \"description\": \"\"\n      }\n    },\n    {\n      \"column\": \"annotation\",\n      \"properties\": {\n        \"dtype\": \"string\",\n        \"num_unique_values\": 23189,\n        \"samples\": [\n          \"\\u0412 \\u0440\\u0430\\u0431\\u043e\\u0442\\u0435 \\u0440\\u0430\\u0441\\u0441\\u043c\\u0430\\u0442\\u0440\\u0438\\u0432\\u0430\\u0435\\u0442\\u0441\\u044f \\u0437\\u0430\\u0434\\u0430\\u0447\\u0430 \\u0441\\u0442\\u0430\\u0431\\u0438\\u043b\\u0438\\u0437\\u0430\\u0446\\u0438\\u0438 \\u0441\\u0438\\u0441\\u0442\\u0435\\u043c\\u044b, \\u043f\\u0440\\u0435\\u0434\\u0441\\u0442\\u0430\\u0432\\u043b\\u044f\\u044e\\u0449\\u0435\\u0439 \\u0441\\u043e\\u0431\\u043e\\u0439 \\u0446\\u0435\\u043f\\u043e\\u0447\\u043a\\u0443 \\u0438\\u043d\\u0442\\u0435\\u0433\\u0440\\u0430\\u0442\\u043e\\u0440\\u043e\\u0432, \\u0432 \\u0443\\u0441\\u043b\\u043e\\u0432\\u0438\\u044f\\u0445 \\u043d\\u0435\\u043e\\u043f\\u0440\\u0435\\u0434\\u0435\\u043b\\u0435\\u043d\\u043d\\u044b\\u0439 \\u043d\\u0435\\u043b\\u0438\\u043d\\u0435\\u0439\\u043d\\u044b\\u0445 \\u0438\\u0437\\u043c\\u0435\\u0440\\u0435\\u043d\\u0438\\u0439: \\u0435\\u0434\\u0438\\u043d\\u0441\\u0442\\u0432\\u0435\\u043d\\u043d\\u044b\\u043c\\u0438 \\u0434\\u0430\\u043d\\u043d\\u044b\\u043c\\u0438, \\u0434\\u043e\\u0441\\u0442\\u0443\\u043f\\u043d\\u044b\\u043c\\u0438 \\u0434\\u043b\\u044f \\u043f\\u043e\\u0441\\u0442\\u0440\\u043e\\u0435\\u043d\\u0438\\u044f \\u043e\\u0431\\u0440\\u0430\\u0442\\u043d\\u043e\\u0439 \\u0441\\u0432\\u044f\\u0437\\u0438, \\u044f\\u0432\\u043b\\u044f\\u044e\\u0442\\u0441\\u044f \\u0437\\u043d\\u0430\\u043a\\u0438 \\u0444\\u0430\\u0437\\u043e\\u0432\\u044b\\u0445 \\u043f\\u0435\\u0440\\u0435\\u043c\\u0435\\u043d\\u043d\\u044b\\u0445. \\u041f\\u0440\\u0435\\u0434\\u043b\\u0430\\u0433\\u0430\\u0435\\u0442\\u0441\\u044f \\u0430\\u043b\\u0433\\u043e\\u0440\\u0438\\u0442\\u043c \\u0443\\u043f\\u0440\\u0430\\u0432\\u043b\\u0435\\u043d\\u0438\\u044f \\u0441\\u043e \\u0441\\u043a\\u043e\\u043b\\u044c\\u0437\\u044f\\u0449\\u0438\\u043c\\u0438 \\u0440\\u0435\\u0436\\u0438\\u043c\\u0430\\u043c\\u0438 \\u0432\\u044b\\u0441\\u0448\\u0438\\u0445 \\u043f\\u043e\\u0440\\u044f\\u0434\\u043a\\u043e\\u0432, \\u043e\\u0431\\u0435\\u0441\\u043f\\u0435\\u0447\\u0438\\u0432\\u0430\\u044e\\u0449\\u0438\\u0445 \\u0441\\u0432\\u0435\\u0434\\u0435\\u043d\\u0438\\u0435 \\u0432 \\u043d\\u043e\\u043b\\u044c \\u0432\\u044b\\u0445\\u043e\\u0434\\u0430 \\u0441\\u0438\\u0441\\u0442\\u0435\\u043c\\u044b \\u0437\\u0430 \\u043a\\u043e\\u043d\\u0435\\u0447\\u043d\\u043e\\u0435 \\u0432\\u0440\\u0435\\u043c\\u044f. \\u0410\\u043b\\u0433\\u043e\\u0440\\u0438\\u0442\\u043c\\u044b \\u043f\\u043e\\u0434\\u043e\\u0431\\u043d\\u043e\\u0433\\u043e \\u0440\\u043e\\u0434\\u0430 \\u0438\\u0437\\u0432\\u0435\\u0441\\u0442\\u043d\\u044b \\u0434\\u043b\\u044f \\u0441\\u0438\\u0441\\u0442\\u0435\\u043c\\u044b \\u043f\\u0435\\u0440\\u0432\\u043e\\u0433\\u043e, \\u0432\\u0442\\u043e\\u0440\\u043e\\u0433\\u043e \\u0438 \\u0442\\u0440\\u0435\\u0442\\u044c\\u0435\\u0433\\u043e \\u043f\\u043e\\u0440\\u044f\\u0434\\u043a\\u043e\\u0432. \\u0412 \\u043d\\u0430\\u0441\\u0442\\u043e\\u044f\\u0449\\u0435\\u0439 \\u0440\\u0430\\u0431\\u043e\\u0442\\u0435 \\u0440\\u0435\\u0437\\u0443\\u043b\\u044c\\u0442\\u0430\\u0442\\u044b [1], \\u0441\\u0432\\u044f\\u0437\\u0430\\u043d\\u043d\\u044b\\u0435 \\u0441\\u043e \\u0441\\u0442\\u0430\\u0431\\u0438\\u043b\\u0438\\u0437\\u0430\\u0446\\u0438\\u0435\\u0439 \\u0442\\u0440\\u043e\\u0439\\u043d\\u043e\\u0433\\u043e \\u0438\\u043d\\u0442\\u0435\\u0433\\u0440\\u0430\\u0442\\u043e\\u0440\\u0430, \\u043e\\u0431\\u043e\\u0431\\u0449\\u0430\\u044e\\u0442\\u0441\\u044f \\u043d\\u0430 \\u0446\\u0435\\u043f\\u043e\\u0447\\u043a\\u0438 \\u0438\\u043d\\u0442\\u0435\\u0433\\u0440\\u0430\\u0442\\u043e\\u0440\\u043e\\u0432 \\u043f\\u0440\\u043e\\u0438\\u0437\\u0432\\u043e\\u043b\\u044c\\u043d\\u043e\\u0439 \\u0434\\u043b\\u0438\\u043d\\u044b.\",\n          \"\\u0412 \\u0440\\u0430\\u0431\\u043e\\u0442\\u0435 \\u043f\\u0440\\u0435\\u0434\\u043b\\u043e\\u0436\\u0435\\u043d \\u043d\\u043e\\u0432\\u044b\\u0439 \\u043f\\u043e\\u0434\\u0445\\u043e\\u0434 \\u043a \\u0440\\u0435\\u0448\\u0435\\u043d\\u0438\\u044e \\u0437\\u0430\\u0434\\u0430\\u0447\\u0438 \\u043e\\u043f\\u0435\\u0440\\u0430\\u0442\\u0438\\u0432\\u043d\\u043e\\u0433\\u043e \\u043e\\u043f\\u0440\\u0435\\u0434\\u0435\\u043b\\u0435\\u043d\\u0438\\u044f \\u0432 \\u043f\\u043e\\u043b\\u0435\\u0432\\u044b\\u0445 \\u0443\\u0441\\u043b\\u043e\\u0432\\u0438\\u044f\\u0445 \\u0441\\u0438\\u0441\\u0442\\u0435\\u043c\\u0430\\u0442\\u0438\\u0447\\u0435\\u0441\\u043a\\u043e\\u0439 \\u043e\\u0448\\u0438\\u0431\\u043a\\u0438 \\u0441\\u0431\\u0440\\u043e\\u0441\\u0430 \\u0441\\u0432\\u043e\\u0431\\u043e\\u0434\\u043d\\u043e\\u043f\\u0430\\u0434\\u0430\\u044e\\u0449\\u0438\\u0445 \\u043d\\u0435\\u0443\\u043f\\u0440\\u0430\\u0432\\u043b\\u044f\\u0435\\u043c\\u044b\\u0445 \\u043a\\u043e\\u043d\\u0442\\u0435\\u0439\\u043d\\u0435\\u0440\\u043e\\u0432 \\u043f\\u0435\\u0440\\u0441\\u043f\\u0435\\u043a\\u0442\\u0438\\u0432\\u043d\\u044b\\u043c\\u0438 \\u0443\\u0434\\u0430\\u0440\\u043d\\u044b\\u043c\\u0438\\r\\n\\u0431\\u0435\\u0441\\u043f\\u0438\\u043b\\u043e\\u0442\\u043d\\u044b\\u043c\\u0438 \\u043b\\u0435\\u0442\\u0430\\u0442\\u0435\\u043b\\u044c\\u043d\\u044b\\u043c\\u0438 \\u0430\\u043f\\u043f\\u0430\\u0440\\u0430\\u0442\\u0430\\u043c\\u0438 \\u043c\\u0430\\u043b\\u043e\\u0433\\u043e \\u043a\\u043b\\u0430\\u0441\\u0441\\u0430. \\u0420\\u0430\\u0437\\u0440\\u0430\\u0431\\u043e\\u0442\\u0430\\u043d\\u044b \\u0441\\u043f\\u043e\\u0441\\u043e\\u0431\\u044b \\u043e\\u0446\\u0435\\u043d\\u043a\\u0438 \\u043f\\u0430\\u0440\\u0430\\u043c\\u0435\\u0442\\u0440\\u043e\\u0432 \\u043e\\u0442\\u043a\\u043b\\u043e\\u043d\\u0435\\u043d\\u0438\\u0439 \\u0442\\u043e\\u0447\\u0435\\u043a \\u043f\\u0430\\u0434\\u0435\\u043d\\u0438\\u044f \\u0441\\u0432\\u043e\\u0431\\u043e\\u0434\\u043d\\u043e\\u043f\\u0430\\u0434\\u0430\\u044e\\u0449\\u0438\\u0445 \\u043d\\u0435\\u0443\\u043f\\u0440\\u0430\\u0432\\u043b\\u044f\\u0435\\u043c\\u044b\\u0445 \\u043a\\u043e\\u043d\\u0442\\u0435\\u0439\\u043d\\u0435\\u0440\\u043e\\u0432 \\u043d\\u0430 \\u043e\\u0441\\u043d\\u043e\\u0432\\u0435 \\u043c\\u043e\\u0434\\u0438\\u0444\\u0438\\u043a\\u0430\\u0446\\u0438\\u0438 \\u0441\\u043f\\u043e\\u0441\\u043e\\u0431\\u0430 \\u043e\\u0431\\u043c\\u0435\\u0440\\u0430 \\u0438 \\u0441\\u043f\\u043e\\u0441\\u043e\\u0431\\u0430 \\u0437\\u0430\\u0441\\u0435\\u0447\\u0435\\u043a.\\r\\n\\u0420\\u0430\\u0437\\u0440\\u0430\\u0431\\u043e\\u0442\\u0430\\u043d\\u043d\\u044b\\u0435 \\u0441\\u043f\\u043e\\u0441\\u043e\\u0431\\u044b \\u043e\\u0442\\u043b\\u0438\\u0447\\u0430\\u044e\\u0442\\u0441\\u044f \\u043e\\u0442 \\u0438\\u0437\\u0432\\u0435\\u0441\\u0442\\u043d\\u044b\\u0445 \\u043f\\u043e\\u0432\\u044b\\u0448\\u0435\\u043d\\u043d\\u043e\\u0439 \\u0442\\u043e\\u0447\\u043d\\u043e\\u0441\\u0442\\u044c\\u044e, \\u043e\\u043f\\u0435\\u0440\\u0430\\u0442\\u0438\\u0432\\u043d\\u043e\\u0441\\u0442\\u044c\\u044e \\u0438 \\u044d\\u043a\\u043e\\u043d\\u043e\\u043c\\u0438\\u0447\\u043d\\u043e\\u0441\\u0442\\u044c\\u044e.\",\n          \"\\u041a\\u043d\\u0438\\u0433\\u0430 \\u043f\\u0440\\u0435\\u0434\\u043d\\u0430\\u0437\\u043d\\u0430\\u0447\\u0435\\u043d\\u0430 \\u0434\\u043b\\u044f \\u043f\\u0440\\u0435\\u043f\\u043e\\u0434\\u0430\\u0432\\u0430\\u0442\\u0435\\u043b\\u0435\\u0439 \\u0438 \\u0441\\u0442\\u0443\\u0434\\u0435\\u043d\\u0442\\u043e\\u0432 \\u0441\\u043f\\u0435\\u0446\\u0438\\u0430\\u043b\\u044c\\u043d\\u043e\\u0441\\u0442\\u0438 \\u00ab\\u0430\\u0432\\u0442\\u043e\\u043c\\u0430\\u0442\\u0438\\u043a\\u0430 \\u0438 \\u0442\\u0435\\u043b\\u0435\\u043c\\u0435\\u0445\\u0430\\u043d\\u0438\\u043a\\u0430\\u00bb \\u0438 \\u043c\\u043e\\u0436\\u0435\\u0442 \\u0431\\u044b\\u0442\\u044c \\u0438\\u0441\\u043f\\u043e\\u043b\\u044c\\u0437\\u043e\\u0432\\u0430\\u043d\\u0430 \\u0442\\u0430\\u043a\\u0436\\u0435 \\u0430\\u0441\\u043f\\u0438\\u0440\\u0430\\u043d\\u0442\\u0430\\u043c\\u0438 \\u043f\\u0440\\u0438 \\u0438\\u0437\\u0443\\u0447\\u0435\\u043d\\u0438\\u0438 \\u043a\\u0443\\u0440\\u0441\\u0430 \\u0442\\u0435\\u043e\\u0440\\u0438\\u0438 \\u0440\\u0435\\u0433\\u0443\\u043b\\u0438\\u0440\\u043e\\u0432\\u0430\\u043d\\u0438\\u044f, \\u0438\\u043d\\u0436\\u0435\\u043d\\u0435\\u0440\\u0430\\u043c\\u0438 \\u0438 \\u043d\\u0430\\u0443\\u0447\\u043d\\u044b\\u043c\\u0438 \\u0440\\u0430\\u0431\\u043e\\u0442\\u043d\\u0438\\u043a\\u0430\\u043c\\u0438 \\u043f\\u0440\\u0438 \\u0441\\u0430\\u043c\\u043e\\u0441\\u0442\\u043e\\u044f\\u0442\\u0435\\u043b\\u044c\\u043d\\u043e\\u043c \\u0438\\u0437\\u0443\\u0447\\u0435\\u043d\\u0438\\u0438 \\u0432\\u043e\\u043f\\u0440\\u043e\\u0441\\u043e\\u0432 \\u0442\\u0435\\u043e\\u0440\\u0438\\u0438.\"\n        ],\n        \"semantic_type\": \"\",\n        \"description\": \"\"\n      }\n    },\n    {\n      \"column\": \"language\",\n      \"properties\": {\n        \"dtype\": \"category\",\n        \"num_unique_values\": 1,\n        \"samples\": [\n          \"ru\"\n        ],\n        \"semantic_type\": \"\",\n        \"description\": \"\"\n      }\n    }\n  ]\n}"
            }
          },
          "metadata": {},
          "execution_count": 93
        }
      ]
    },
    {
      "cell_type": "markdown",
      "source": [
        "Найдем самые популярные темы исследования для определения целевой функции. Это можно сделать частотным методом, выбрав самые встречающиеся темы из названия статей."
      ],
      "metadata": {
        "id": "X10_Q81Te9Vd"
      }
    },
    {
      "cell_type": "code",
      "source": [
        "def preprocess_text(text):\n",
        "    text = text.lower()\n",
        "    text = re.sub(r'[^\\w\\s]', '', text)\n",
        "    words = nltk.word_tokenize(text)\n",
        "    words = [word for word in words if word not in stop_words]\n",
        "    words = [lemmatizer.lemmatize(word) for word in words]\n",
        "    return ' '.join(words)"
      ],
      "metadata": {
        "id": "kvIJtdeSe8xe"
      },
      "execution_count": 94,
      "outputs": []
    },
    {
      "cell_type": "code",
      "source": [
        "# nltk.download('stopwords')\n",
        "# nltk.download('punkt')\n",
        "# nltk.download('wordnet')\n",
        "stop_words = set(stopwords.words('russian'))\n",
        "lemmatizer = WordNetLemmatizer()"
      ],
      "metadata": {
        "id": "PPALqpdcmkVZ"
      },
      "execution_count": 95,
      "outputs": []
    },
    {
      "cell_type": "code",
      "source": [
        "titles = data_ru['publ_name']\n",
        "\n",
        "processed_titles = titles.apply(preprocess_text)\n",
        "\n",
        "all_words = ' '.join(processed_titles).split()\n",
        "\n",
        "bigrams = ngrams(all_words, 2)\n",
        "bigram_counts = Counter(bigrams)\n",
        "\n",
        "most_common_bigrams = bigram_counts.most_common(10)\n",
        "print(\"Самые популярные темы исследования:\")\n",
        "for bigram, count in most_common_bigrams:\n",
        "    print(f\"{' '.join(bigram)}: {count}\")"
      ],
      "metadata": {
        "colab": {
          "base_uri": "https://localhost:8080/"
        },
        "id": "xXXQDKlAldbW",
        "outputId": "461c6fe3-255d-4269-fde3-747d564b1d72"
      },
      "execution_count": 96,
      "outputs": [
        {
          "output_type": "stream",
          "name": "stdout",
          "text": [
            "Самые популярные темы исследования:\n",
            "систем управления: 291\n",
            "системы управления: 256\n",
            "принятия решений: 193\n",
            "летательных аппаратов: 129\n",
            "инновационного развития: 120\n",
            "российской федерации: 116\n",
            "сложных систем: 110\n",
            "системах управления: 109\n",
            "динамических систем: 107\n",
            "решения задач: 106\n"
          ]
        }
      ]
    },
    {
      "cell_type": "code",
      "source": [
        "bigrams = ngrams(all_words, 3)\n",
        "bigram_counts = Counter(bigrams)\n",
        "\n",
        "most_common_bigrams = bigram_counts.most_common(10)\n",
        "print(\"Самые популярные темы исследования:\")\n",
        "for bigram, count in most_common_bigrams:\n",
        "    print(f\"{' '.join(bigram)}: {count}\")"
      ],
      "metadata": {
        "colab": {
          "base_uri": "https://localhost:8080/"
        },
        "id": "QCbOgfhymH0H",
        "outputId": "20892690-5fb0-4824-a645-8972927e7eec"
      },
      "execution_count": 99,
      "outputs": [
        {
          "output_type": "stream",
          "name": "stdout",
          "text": [
            "Самые популярные темы исследования:\n",
            "поддержки принятия решений: 82\n",
            "беспилотных летательных аппаратов: 82\n",
            "сигнала лучевой артерии: 52\n",
            "пульсового сигнала лучевой: 51\n",
            "асу тп аэс: 49\n",
            "параллельных вычислительных системах: 46\n",
            "управляющих параллельных вычислительных: 44\n",
            "развитием крупномасштабных систем: 38\n",
            "сложных технических систем: 36\n",
            "лекции математике т: 32\n"
          ]
        }
      ]
    },
    {
      "cell_type": "code",
      "source": [
        "bigrams = ngrams(all_words, 4)\n",
        "bigram_counts = Counter(bigrams)\n",
        "\n",
        "most_common_bigrams = bigram_counts.most_common(10)\n",
        "print(\"Самые популярные темы исследования:\")\n",
        "for bigram, count in most_common_bigrams:\n",
        "    print(f\"{' '.join(bigram)}: {count}\")"
      ],
      "metadata": {
        "colab": {
          "base_uri": "https://localhost:8080/"
        },
        "id": "LjqhKDkfsuH4",
        "outputId": "f4526992-cca7-4152-fd82-3b5019a08c60"
      },
      "execution_count": 100,
      "outputs": [
        {
          "output_type": "stream",
          "name": "stdout",
          "text": [
            "Самые популярные темы исследования:\n",
            "пульсового сигнала лучевой артерии: 51\n",
            "управления безопасностью сложных систем: 29\n",
            "уровня асу тп аэс: 27\n",
            "проблемы управления безопасностью сложных: 27\n",
            "управление развитием крупномасштабных систем: 25\n",
            "управляющих параллельных вычислительных системах: 25\n",
            "системы поддержки принятия решений: 22\n",
            "объектах искусственной средой обитания: 19\n",
            "верхнего уровня асу тп: 19\n",
            "управляющих параллельных вычислительных систем: 19\n"
          ]
        }
      ]
    },
    {
      "cell_type": "code",
      "source": [
        "# Числовые признаки\n",
        "num_cols = [\n",
        "    'publ_id',\n",
        "    'year'\n",
        "]\n",
        "\n",
        "# Категориальные признаки\n",
        "cat_cols = [\n",
        "    'publ_name',\n",
        "    'annotation',\n",
        "    'language'\n",
        "]\n",
        "\n",
        "feature_cols = num_cols + cat_cols\n",
        "target_col = '?'"
      ],
      "metadata": {
        "id": "lNBYQxHteFAQ"
      },
      "execution_count": 98,
      "outputs": []
    }
  ]
}